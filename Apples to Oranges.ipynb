{
 "cells": [
  {
   "cell_type": "code",
   "execution_count": 40,
   "metadata": {},
   "outputs": [
    {
     "name": "stdout",
     "output_type": "stream",
     "text": [
      "Apples list before change \n",
      " ['Ann Arbor city\\n', 'Boston city\\n', 'Buffalo city\\n', 'Indianapolis city', 'Lansing city\\n', 'Los Angeles city\\n', 'Paris city\\n', 'Philadelphia city\\n']\n",
      "\n",
      " Oranges list:\n",
      " ['city of Ann Arbor, MI\\n', 'city of Boston, MA\\n', 'city of Buffalo, NY\\n', 'city of Indianapolis, IN\\n', 'city of Lansing, MI\\n', 'city of Paris, TX\\n', 'city of Philadelphia, PA\\n', 'city of San Francisco, CA']\n",
      "\n",
      "There are 7 matching records.\n",
      "\n",
      "Apples list after change:\n",
      "\n",
      " ['city of Ann Arbor, MI\\n', 'city of Boston, MA\\n', 'city of Buffalo, NY\\n', 'city of Indianapolis, IN\\n', 'city of Lansing, MI\\n', 'Los Angeles city\\n', 'city of Paris, TX\\n', 'city of Philadelphia, PA\\n']\n"
     ]
    }
   ],
   "source": [
    "# Write a program that converts apples to oranges\n",
    "# Identify how many records you were able to match\n",
    "\n",
    "# Read both the files into lists and sort them:\n",
    "f1=open(\"apples.txt\",\"r\")\n",
    "apples = f1.readlines()\n",
    "apples.sort() \n",
    "print('Apples list before change \\n',apples)\n",
    "\n",
    "f2=open(\"oranges.txt\",\"r\")\n",
    "oranges = f2.readlines()\n",
    "oranges.sort() \n",
    "print('\\n Oranges list:\\n',oranges)\n",
    "i=0\n",
    "\n",
    "match=0\n",
    "\n",
    "# For every element in the list, split it further and use the first element to check for matching cities:\n",
    "\n",
    "for line in apples:\n",
    "    i=apples.index(line)                #use the index to reformat the apples list\n",
    "    words=line.split()\n",
    "    for element in oranges:\n",
    "            if words[0] in element:\n",
    "                apples[i]=element        \n",
    "                match=match+1           #count the number of matches\n",
    "\n",
    "\n",
    "print('\\nThere are %s matching records.'% (match))\n",
    "print('\\nApples list after change:\\n\\n',apples)    \n",
    "                "
   ]
  }
 ],
 "metadata": {
  "kernelspec": {
   "display_name": "Python 3",
   "language": "python",
   "name": "python3"
  },
  "language_info": {
   "codemirror_mode": {
    "name": "ipython",
    "version": 3
   },
   "file_extension": ".py",
   "mimetype": "text/x-python",
   "name": "python",
   "nbconvert_exporter": "python",
   "pygments_lexer": "ipython3",
   "version": "3.8.3"
  }
 },
 "nbformat": 4,
 "nbformat_minor": 4
}
