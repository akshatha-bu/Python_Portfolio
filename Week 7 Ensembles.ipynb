{
 "cells": [
  {
   "cell_type": "markdown",
   "metadata": {},
   "source": [
    "# This notebook includes the following algorithms:\n",
    "* Naive Bayes classifiers\n",
    "* Nonlinear SVM\n",
    "* Bagging w/ random forests\n",
    "* Boosting w/ stochastic gradient boosting\n",
    "* Generic ensemble approach\n",
    "* Neural networks"
   ]
  },
  {
   "cell_type": "markdown",
   "metadata": {},
   "source": [
    "* Use the data to predict in league 2019 or not.\n",
    "* Use the decision tree classifier, grid search, and the attributes to control model complexity to find the best version of this model (i.e., highest average accuracy in test data).\n",
    "* Do the same task, but use random forests instead. Compare the results.\n",
    "* Repeat with gradient boosting classifier.\n",
    "* What are your takeaways?"
   ]
  },
  {
   "cell_type": "code",
   "execution_count": 169,
   "metadata": {},
   "outputs": [],
   "source": [
    "# data packages\n",
    "import pandas as pd\n",
    "import numpy as np\n",
    "from matplotlib import pyplot as plt\n",
    "import time\n",
    "\n",
    "# algorithms\n",
    "from sklearn.naive_bayes import BernoulliNB\n",
    "from sklearn.naive_bayes import MultinomialNB\n",
    "from sklearn.naive_bayes import GaussianNB\n",
    "from sklearn.svm import SVC\n",
    "from sklearn.tree import DecisionTreeClassifier\n",
    "from sklearn.ensemble import RandomForestClassifier\n",
    "from sklearn.ensemble import GradientBoostingClassifier\n",
    "from sklearn.ensemble import VotingClassifier\n",
    "from sklearn.neural_network import MLPClassifier\n",
    "\n",
    "# organizing tests\n",
    "from sklearn.model_selection import train_test_split\n",
    "from sklearn.model_selection import cross_val_score\n",
    "from sklearn.preprocessing import MinMaxScaler\n",
    "from sklearn.model_selection import GridSearchCV\n",
    "from sklearn.pipeline import Pipeline\n",
    "\n",
    "# some metrics\n",
    "from sklearn.metrics import recall_score\n",
    "from sklearn.metrics import precision_score\n",
    "from sklearn.metrics import confusion_matrix\n",
    "from sklearn.metrics import f1_score\n",
    "\n",
    "#plots\n",
    "from sklearn.tree import plot_tree"
   ]
  },
  {
   "cell_type": "code",
   "execution_count": 170,
   "metadata": {},
   "outputs": [
    {
     "data": {
      "text/html": [
       "<div>\n",
       "<style scoped>\n",
       "    .dataframe tbody tr th:only-of-type {\n",
       "        vertical-align: middle;\n",
       "    }\n",
       "\n",
       "    .dataframe tbody tr th {\n",
       "        vertical-align: top;\n",
       "    }\n",
       "\n",
       "    .dataframe thead th {\n",
       "        text-align: right;\n",
       "    }\n",
       "</style>\n",
       "<table border=\"1\" class=\"dataframe\">\n",
       "  <thead>\n",
       "    <tr style=\"text-align: right;\">\n",
       "      <th></th>\n",
       "      <th>playerID</th>\n",
       "      <th>inleague_2019</th>\n",
       "      <th>G_2016</th>\n",
       "      <th>G_2017</th>\n",
       "      <th>G_2018</th>\n",
       "      <th>AB_2016</th>\n",
       "      <th>AB_2017</th>\n",
       "      <th>AB_2018</th>\n",
       "      <th>R_2016</th>\n",
       "      <th>R_2017</th>\n",
       "      <th>...</th>\n",
       "      <th>HBP_2018</th>\n",
       "      <th>SH_2016</th>\n",
       "      <th>SH_2017</th>\n",
       "      <th>SH_2018</th>\n",
       "      <th>SF_2016</th>\n",
       "      <th>SF_2017</th>\n",
       "      <th>SF_2018</th>\n",
       "      <th>GIDP_2016</th>\n",
       "      <th>GIDP_2017</th>\n",
       "      <th>GIDP_2018</th>\n",
       "    </tr>\n",
       "  </thead>\n",
       "  <tbody>\n",
       "    <tr>\n",
       "      <th>0</th>\n",
       "      <td>abadfe01</td>\n",
       "      <td>1.0</td>\n",
       "      <td>39.0</td>\n",
       "      <td>48.0</td>\n",
       "      <td>NaN</td>\n",
       "      <td>1.0</td>\n",
       "      <td>0.0</td>\n",
       "      <td>NaN</td>\n",
       "      <td>0.0</td>\n",
       "      <td>0.0</td>\n",
       "      <td>...</td>\n",
       "      <td>NaN</td>\n",
       "      <td>0.0</td>\n",
       "      <td>0.0</td>\n",
       "      <td>NaN</td>\n",
       "      <td>0.0</td>\n",
       "      <td>0.0</td>\n",
       "      <td>NaN</td>\n",
       "      <td>0.0</td>\n",
       "      <td>0.0</td>\n",
       "      <td>NaN</td>\n",
       "    </tr>\n",
       "    <tr>\n",
       "      <th>1</th>\n",
       "      <td>abreujo02</td>\n",
       "      <td>1.0</td>\n",
       "      <td>159.0</td>\n",
       "      <td>156.0</td>\n",
       "      <td>128.0</td>\n",
       "      <td>624.0</td>\n",
       "      <td>621.0</td>\n",
       "      <td>499.0</td>\n",
       "      <td>67.0</td>\n",
       "      <td>95.0</td>\n",
       "      <td>...</td>\n",
       "      <td>11.0</td>\n",
       "      <td>0.0</td>\n",
       "      <td>0.0</td>\n",
       "      <td>0.0</td>\n",
       "      <td>9.0</td>\n",
       "      <td>4.0</td>\n",
       "      <td>6.0</td>\n",
       "      <td>21.0</td>\n",
       "      <td>21.0</td>\n",
       "      <td>14.0</td>\n",
       "    </tr>\n",
       "    <tr>\n",
       "      <th>2</th>\n",
       "      <td>acunaro01</td>\n",
       "      <td>1.0</td>\n",
       "      <td>NaN</td>\n",
       "      <td>NaN</td>\n",
       "      <td>111.0</td>\n",
       "      <td>NaN</td>\n",
       "      <td>NaN</td>\n",
       "      <td>433.0</td>\n",
       "      <td>NaN</td>\n",
       "      <td>NaN</td>\n",
       "      <td>...</td>\n",
       "      <td>6.0</td>\n",
       "      <td>NaN</td>\n",
       "      <td>NaN</td>\n",
       "      <td>0.0</td>\n",
       "      <td>NaN</td>\n",
       "      <td>NaN</td>\n",
       "      <td>3.0</td>\n",
       "      <td>NaN</td>\n",
       "      <td>NaN</td>\n",
       "      <td>4.0</td>\n",
       "    </tr>\n",
       "    <tr>\n",
       "      <th>3</th>\n",
       "      <td>adamecr01</td>\n",
       "      <td>1.0</td>\n",
       "      <td>121.0</td>\n",
       "      <td>12.0</td>\n",
       "      <td>NaN</td>\n",
       "      <td>225.0</td>\n",
       "      <td>13.0</td>\n",
       "      <td>NaN</td>\n",
       "      <td>25.0</td>\n",
       "      <td>1.0</td>\n",
       "      <td>...</td>\n",
       "      <td>NaN</td>\n",
       "      <td>3.0</td>\n",
       "      <td>0.0</td>\n",
       "      <td>NaN</td>\n",
       "      <td>0.0</td>\n",
       "      <td>0.0</td>\n",
       "      <td>NaN</td>\n",
       "      <td>5.0</td>\n",
       "      <td>0.0</td>\n",
       "      <td>NaN</td>\n",
       "    </tr>\n",
       "    <tr>\n",
       "      <th>4</th>\n",
       "      <td>adamewi01</td>\n",
       "      <td>1.0</td>\n",
       "      <td>NaN</td>\n",
       "      <td>NaN</td>\n",
       "      <td>85.0</td>\n",
       "      <td>NaN</td>\n",
       "      <td>NaN</td>\n",
       "      <td>288.0</td>\n",
       "      <td>NaN</td>\n",
       "      <td>NaN</td>\n",
       "      <td>...</td>\n",
       "      <td>1.0</td>\n",
       "      <td>NaN</td>\n",
       "      <td>NaN</td>\n",
       "      <td>1.0</td>\n",
       "      <td>NaN</td>\n",
       "      <td>NaN</td>\n",
       "      <td>2.0</td>\n",
       "      <td>NaN</td>\n",
       "      <td>NaN</td>\n",
       "      <td>6.0</td>\n",
       "    </tr>\n",
       "  </tbody>\n",
       "</table>\n",
       "<p>5 rows × 53 columns</p>\n",
       "</div>"
      ],
      "text/plain": [
       "    playerID  inleague_2019  G_2016  G_2017  G_2018  AB_2016  AB_2017  \\\n",
       "0   abadfe01            1.0    39.0    48.0     NaN      1.0      0.0   \n",
       "1  abreujo02            1.0   159.0   156.0   128.0    624.0    621.0   \n",
       "2  acunaro01            1.0     NaN     NaN   111.0      NaN      NaN   \n",
       "3  adamecr01            1.0   121.0    12.0     NaN    225.0     13.0   \n",
       "4  adamewi01            1.0     NaN     NaN    85.0      NaN      NaN   \n",
       "\n",
       "   AB_2018  R_2016  R_2017  ...  HBP_2018  SH_2016  SH_2017  SH_2018  SF_2016  \\\n",
       "0      NaN     0.0     0.0  ...       NaN      0.0      0.0      NaN      0.0   \n",
       "1    499.0    67.0    95.0  ...      11.0      0.0      0.0      0.0      9.0   \n",
       "2    433.0     NaN     NaN  ...       6.0      NaN      NaN      0.0      NaN   \n",
       "3      NaN    25.0     1.0  ...       NaN      3.0      0.0      NaN      0.0   \n",
       "4    288.0     NaN     NaN  ...       1.0      NaN      NaN      1.0      NaN   \n",
       "\n",
       "   SF_2017  SF_2018  GIDP_2016  GIDP_2017  GIDP_2018  \n",
       "0      0.0      NaN        0.0        0.0        NaN  \n",
       "1      4.0      6.0       21.0       21.0       14.0  \n",
       "2      NaN      3.0        NaN        NaN        4.0  \n",
       "3      0.0      NaN        5.0        0.0        NaN  \n",
       "4      NaN      2.0        NaN        NaN        6.0  \n",
       "\n",
       "[5 rows x 53 columns]"
      ]
     },
     "execution_count": 170,
     "metadata": {},
     "output_type": "execute_result"
    }
   ],
   "source": [
    "df = pd.read_csv('predicting_inleague.csv')\n",
    "df.head()"
   ]
  },
  {
   "cell_type": "code",
   "execution_count": 171,
   "metadata": {},
   "outputs": [
    {
     "data": {
      "text/plain": [
       "count    1957.000000\n",
       "mean        0.582013\n",
       "std         0.493354\n",
       "min         0.000000\n",
       "25%         0.000000\n",
       "50%         1.000000\n",
       "75%         1.000000\n",
       "max         1.000000\n",
       "Name: inleague_2019, dtype: float64"
      ]
     },
     "execution_count": 171,
     "metadata": {},
     "output_type": "execute_result"
    }
   ],
   "source": [
    "df.inleague_2019.describe()"
   ]
  },
  {
   "cell_type": "code",
   "execution_count": 172,
   "metadata": {},
   "outputs": [
    {
     "data": {
      "text/plain": [
       "1.0    1139\n",
       "0.0     818\n",
       "Name: inleague_2019, dtype: int64"
      ]
     },
     "execution_count": 172,
     "metadata": {},
     "output_type": "execute_result"
    }
   ],
   "source": [
    "df.inleague_2019.value_counts()"
   ]
  },
  {
   "cell_type": "code",
   "execution_count": 173,
   "metadata": {},
   "outputs": [],
   "source": [
    "# Fix missing records\n",
    "df.fillna(0, inplace=True)"
   ]
  },
  {
   "cell_type": "markdown",
   "metadata": {},
   "source": [
    "## Decision Tree Modeling"
   ]
  },
  {
   "cell_type": "code",
   "execution_count": 190,
   "metadata": {},
   "outputs": [
    {
     "name": "stdout",
     "output_type": "stream",
     "text": [
      "X shape: (1957, 51) \n",
      "y shape: (1957, 1)\n"
     ]
    }
   ],
   "source": [
    "# split out your target feature and your other features that you will use to predict the target\n",
    "xcols = df.columns[2 : len(df.columns)].to_list()\n",
    "X, y = df[xcols], df[['inleague_2019']]\n",
    "print('X shape:', X.shape, '\\ny shape:', y.shape)"
   ]
  },
  {
   "cell_type": "code",
   "execution_count": 175,
   "metadata": {},
   "outputs": [
    {
     "name": "stdout",
     "output_type": "stream",
     "text": [
      "Accuracy of Decision Tree classifier: 0.84\n"
     ]
    }
   ],
   "source": [
    "#fit the decision tree and output accuracy constrained by depth\n",
    "clf = DecisionTreeClassifier(criterion='entropy', max_depth=4).fit(X, y)\n",
    "print('Accuracy of Decision Tree classifier: {:.2f}'\n",
    "     .format(clf.score(X, y)))"
   ]
  },
  {
   "cell_type": "code",
   "execution_count": 176,
   "metadata": {},
   "outputs": [
    {
     "data": {
      "image/png": "[encoded data removed]",
      "text/plain": [
       "<Figure size 1440x1440 with 1 Axes>"
      ]
     },
     "metadata": {
      "needs_background": "light"
     },
     "output_type": "display_data"
    }
   ],
   "source": [
    "# plotting the tree\n",
    "\n",
    "f = plt.figure(figsize=[20, 20])\n",
    "plot_tree(clf, feature_names=xcols, fontsize=10)\n",
    "f.savefig(\"decision_tree.pdf\", bbox_inches='tight')"
   ]
  },
  {
   "cell_type": "code",
   "execution_count": 178,
   "metadata": {},
   "outputs": [
    {
     "name": "stdout",
     "output_type": "stream",
     "text": [
      "G_2018 : 0.8660854948999953\n",
      "R_2018 : 0.025495100757142234\n",
      "AB_2018 : 0.02527753981410228\n",
      "G_2017 : 0.021200753216647012\n",
      "R_2016 : 0.0198716004915172\n",
      "G_2016 : 0.01476655934715207\n",
      "SB_2017 : 0.009925821906395304\n",
      "RBI_2018 : 0.0070054350835300535\n",
      "HR_2018 : 0.0053734459434252105\n",
      "SO_2018 : 0.004998248540093274\n",
      "AB_2016 : 0.0\n",
      "AB_2017 : 0.0\n",
      "R_2017 : 0.0\n",
      "H_2016 : 0.0\n",
      "H_2017 : 0.0\n",
      "H_2018 : 0.0\n",
      "2B_2016 : 0.0\n",
      "2B_2017 : 0.0\n",
      "2B_2018 : 0.0\n",
      "3B_2016 : 0.0\n",
      "3B_2017 : 0.0\n",
      "3B_2018 : 0.0\n",
      "HR_2016 : 0.0\n",
      "HR_2017 : 0.0\n",
      "RBI_2016 : 0.0\n"
     ]
    }
   ],
   "source": [
    "# summarize feature importance, and store values under feature names in scores dictionary\n",
    "importance = clf.feature_importances_\n",
    "scores = {}\n",
    "for i,v in enumerate(importance):\n",
    "    #print('Feature: %s, Score: %.5f' % (xcols[i],v))\n",
    "    scores[xcols[i]] = v\n",
    "\n",
    "#reverse sort 'scores' dictionary by values\n",
    "import operator\n",
    "sorted_scores = sorted(scores.items(), key=operator.itemgetter(1),reverse=True)\n",
    "\n",
    "#print top 10 features\n",
    "for feature, score in sorted_scores[0:25]:\n",
    "    print(feature, ':', score)"
   ]
  },
  {
   "cell_type": "code",
   "execution_count": 40,
   "metadata": {},
   "outputs": [
    {
     "name": "stderr",
     "output_type": "stream",
     "text": [
      "<ipython-input-40-f0176acb5b8d>:11: UserWarning: FixedFormatter should only be used together with FixedLocator\n",
      "  ax.set_xticklabels(labels = top_feats, rotation=45)\n"
     ]
    },
    {
     "data": {
      "image/png": "[encoded data removed]",
      "text/plain": [
       "<Figure size 432x288 with 1 Axes>"
      ]
     },
     "metadata": {
      "needs_background": "light"
     },
     "output_type": "display_data"
    }
   ],
   "source": [
    "# first extract the top ten features into two lists that can be passed to plotting function\n",
    "top_feats, top_vals = [], []\n",
    "for feat_name, value in sorted_scores[0 : 10]:\n",
    "    top_feats.append(feat_name)\n",
    "    top_vals.append(value)\n",
    "\n",
    "# plot feature importance for top 10 features\n",
    "# plotting function\n",
    "fig, ax = plt.subplots(1, 1)\n",
    "feats_plot = ax.bar(top_feats, top_vals)\n",
    "ax.set_xticklabels(labels = top_feats, rotation=45)\n",
    "plt.show()"
   ]
  },
  {
   "cell_type": "code",
   "execution_count": 41,
   "metadata": {},
   "outputs": [
    {
     "name": "stdout",
     "output_type": "stream",
     "text": [
      "(1467, 51)\n",
      "(490, 51) \n",
      "\n",
      "Accuracy of classifier on training set: 0.99\n",
      "Accuracy of classifier on test set: 0.75\n"
     ]
    }
   ],
   "source": [
    "# train-test split\n",
    "from sklearn.model_selection import train_test_split\n",
    "\n",
    "X_train, X_test, y_train, y_test = train_test_split(df[xcols], df[['inleague_2019']], \n",
    "                                                    random_state=0)\n",
    "print(X_train.shape)\n",
    "print(X_test.shape,'\\n')\n",
    "\n",
    "clf = DecisionTreeClassifier(criterion='entropy').fit(X_train, y_train)\n",
    "\n",
    "print('Accuracy of classifier on training set: {:.2f}'\n",
    "         .format(clf.score(X_train, y_train)))\n",
    "print('Accuracy of classifier on test set: {:.2f}'\n",
    "         .format(clf.score(X_test, y_test)))"
   ]
  },
  {
   "cell_type": "code",
   "execution_count": 81,
   "metadata": {},
   "outputs": [
    {
     "name": "stdout",
     "output_type": "stream",
     "text": [
      "Accuracy of classifier on training set: 0.84\n",
      "Accuracy of classifier on test set: 0.83\n"
     ]
    }
   ],
   "source": [
    "# limit tree complexity\n",
    "clf = DecisionTreeClassifier(criterion='entropy', max_depth=3).fit(X_train, y_train)\n",
    "\n",
    "print('Accuracy of classifier on training set: {:.2f}'\n",
    "         .format(clf.score(X_train, y_train)))\n",
    "print('Accuracy of classifier on test set: {:.2f}'\n",
    "         .format(clf.score(X_test, y_test)))\n",
    "\n",
    "#f = plt.figure(figsize=[10, 10])\n",
    "#plot_tree(clf, feature_names=xcols, fontsize=10)\n",
    "#print('\\nyou can see the constrained tree depth')"
   ]
  },
  {
   "cell_type": "code",
   "execution_count": 142,
   "metadata": {},
   "outputs": [
    {
     "name": "stdout",
     "output_type": "stream",
     "text": [
      "Accuracy of Decision Tree classifier: 0.83\n"
     ]
    }
   ],
   "source": [
    "# let's work w/ a simpler set of features to look at prediction\n",
    "\n",
    "xcols2 = ['G_2018', 'R_2018', 'AB_2018', 'G_2017']\n",
    "X2 = df[xcols2]\n",
    "clf = DecisionTreeClassifier(criterion='entropy', max_depth=3).fit(X2, y)\n",
    "print('Accuracy of Decision Tree classifier: {:.2f}'\n",
    "     .format(clf.score(X2, y)))\n",
    "\n",
    "\n",
    "#output the decision trees w/ proportions\n",
    "\n",
    "#f = plt.figure(figsize=[10, 10])\n",
    "#plot_tree(clf, feature_names=xcols2, fontsize=10, proportion=True)\n",
    "#f.savefig(\"decision_tree_2features.pdf\", bbox_inches='tight')"
   ]
  },
  {
   "cell_type": "code",
   "execution_count": 143,
   "metadata": {},
   "outputs": [
    {
     "name": "stdout",
     "output_type": "stream",
     "text": [
      "(1467, 4)\n",
      "(490, 4) \n",
      "\n",
      "Accuracy of classifier on training set: 0.84\n",
      "Accuracy of classifier on test set: 0.83\n"
     ]
    }
   ],
   "source": [
    "# train-test split\n",
    "#from sklearn.model_selection import train_test_split\n",
    "\n",
    "X2_train, X2_test, y_train, y_test = train_test_split(df[xcols2], df[['inleague_2019']], \n",
    "                                                    random_state=0)\n",
    "print(X_train.shape)\n",
    "print(X_test.shape,'\\n')\n",
    "\n",
    "clf = DecisionTreeClassifier(criterion='entropy',max_depth=3).fit(X_train, y_train)\n",
    "\n",
    "print('Accuracy of classifier on training set: {:.2f}'\n",
    "         .format(clf.score(X_train, y_train)))\n",
    "print('Accuracy of classifier on test set: {:.2f}'\n",
    "         .format(clf.score(X_test, y_test)))"
   ]
  },
  {
   "cell_type": "code",
   "execution_count": 125,
   "metadata": {},
   "outputs": [],
   "source": [
    "# scale data first (note: should put this in a pipeline to avoid data leakage)\n",
    "scaler = MinMaxScaler()\n",
    "scaled_X2 = scaler.fit_transform(X2)\n",
    "\n",
    "scaledx2_train = scaler.fit_transform(X2_train)\n",
    "scaledx2_test = scaler.fit_transform(X2_test)"
   ]
  },
  {
   "cell_type": "code",
   "execution_count": 144,
   "metadata": {},
   "outputs": [
    {
     "name": "stdout",
     "output_type": "stream",
     "text": [
      "(1467, 4)\n",
      "(490, 4) \n",
      "\n",
      "Accuracy of classifier on scaled training set: 0.84\n",
      "Accuracy of classifier on scaled test set: 0.83\n"
     ]
    }
   ],
   "source": [
    "scaledx2_train, scaledx2_test, y_train, y_test = train_test_split(df[xcols2], df[['inleague_2019']], \n",
    "                                                    random_state=0)\n",
    "\n",
    "\n",
    "print(X2_train.shape)\n",
    "print(X2_test.shape,'\\n')\n",
    "\n",
    "clf = DecisionTreeClassifier(criterion='entropy',max_depth=3).fit(scaledx2_train, y_train)\n",
    "\n",
    "print('Accuracy of classifier on scaled training set: {:.2f}'\n",
    "         .format(clf.score(scaledx2_train, y_train)))\n",
    "print('Accuracy of classifier on scaled test set: {:.2f}'\n",
    "         .format(clf.score(scaledx2_test, y_test)))"
   ]
  },
  {
   "cell_type": "markdown",
   "metadata": {},
   "source": [
    "## Grid Search (Tree Model)"
   ]
  },
  {
   "cell_type": "code",
   "execution_count": 145,
   "metadata": {},
   "outputs": [],
   "source": [
    "from sklearn import decomposition, datasets\n",
    "from sklearn import tree\n",
    "from sklearn.pipeline import Pipeline\n",
    "from sklearn.model_selection import GridSearchCV\n",
    "from sklearn.preprocessing import StandardScaler"
   ]
  },
  {
   "cell_type": "code",
   "execution_count": 152,
   "metadata": {},
   "outputs": [],
   "source": [
    "std_slc = StandardScaler()\n",
    "pca = decomposition.PCA()\n",
    "dec_tree = tree.DecisionTreeClassifier()\n",
    "\n",
    "pipe = Pipeline(steps=[('std_slc', std_slc),\n",
    "                           ('pca', pca),\n",
    "                           ('dec_tree', dec_tree)])"
   ]
  },
  {
   "cell_type": "code",
   "execution_count": 153,
   "metadata": {},
   "outputs": [],
   "source": [
    "n_features = list(range(1,X.shape[1]+1,1))"
   ]
  },
  {
   "cell_type": "code",
   "execution_count": 148,
   "metadata": {},
   "outputs": [],
   "source": [
    "criterion = ['gini','entropy']\n",
    "max_depth = [2,4,6,8,10,12]"
   ]
  },
  {
   "cell_type": "code",
   "execution_count": 154,
   "metadata": {},
   "outputs": [],
   "source": [
    "parameters = dict(pca__n_components=n_features,\n",
    "                      dec_tree__criterion=criterion,\n",
    "                      dec_tree__max_depth=max_depth)"
   ]
  },
  {
   "cell_type": "code",
   "execution_count": 134,
   "metadata": {},
   "outputs": [
    {
     "name": "stdout",
     "output_type": "stream",
     "text": [
      "Best Criterion: entropy\n",
      "Best max_depth: 6\n",
      "Best Number Of Components: 25\n",
      "\n",
      "DecisionTreeClassifier(criterion='entropy', max_depth=6)\n"
     ]
    }
   ],
   "source": [
    "clf_GS = GridSearchCV(pipe, parameters)\n",
    "clf_GS.fit(X, y)\n",
    "\n",
    "print('Best Criterion:', clf_GS.best_estimator_.get_params()['dec_tree__criterion'])\n",
    "print('Best max_depth:', clf_GS.best_estimator_.get_params()['dec_tree__max_depth'])\n",
    "print('Best Number Of Features:', clf_GS.best_estimator_.get_params()['pca__n_components'])\n",
    "print(); print(clf_GS.best_estimator_.get_params()['dec_tree'])\n"
   ]
  },
  {
   "cell_type": "code",
   "execution_count": 184,
   "metadata": {},
   "outputs": [
    {
     "name": "stdout",
     "output_type": "stream",
     "text": [
      "['G_2018', 'R_2018', 'AB_2018', 'G_2017', 'R_2016', 'G_2016', 'SB_2017', 'RBI_2018', 'HR_2018', 'SO_2018', 'AB_2016', 'AB_2017', 'R_2017', 'H_2016', 'H_2017', 'H_2018', '2B_2016', '2B_2017', '2B_2018', '3B_2016', '3B_2017', '3B_2018', 'HR_2016', 'HR_2017', 'RBI_2016']\n"
     ]
    }
   ],
   "source": [
    "#X3 = df[xcols[0:25]]\n",
    "#print(xcols[0:25])\n",
    "\n",
    "X3 = ['G_2018','R_2018','AB_2018','G_2017','R_2016', 'G_2016','SB_2017','RBI_2018','HR_2018','SO_2018','AB_2016','AB_2017','R_2017','H_2016','H_2017','H_2018','2B_2016','2B_2017','2B_2018','3B_2016','3B_2017','3B_2018','HR_2016','HR_2017','RBI_2016'] \n",
    "print(X3)\n"
   ]
  },
  {
   "cell_type": "code",
   "execution_count": 185,
   "metadata": {},
   "outputs": [
    {
     "name": "stdout",
     "output_type": "stream",
     "text": [
      "(1467, 25)\n",
      "(490, 25) \n",
      "\n",
      "Accuracy of classifier on scaled training set: 0.86\n",
      "Accuracy of classifier on scaled test set: 0.82\n"
     ]
    }
   ],
   "source": [
    "scaled_X3 = scaler.fit_transform(df[X3])\n",
    "scaledx3_train, scaledx3_test, y_train, y_test = train_test_split(df[X3], df[['inleague_2019']], \n",
    "                                                    random_state=0)\n",
    "\n",
    "\n",
    "print(scaledx3_train.shape)\n",
    "print(scaledx3_test.shape,'\\n')\n",
    "\n",
    "clf = DecisionTreeClassifier(criterion='entropy',max_depth=6).fit(scaledx3_train, y_train)\n",
    "\n",
    "print('Accuracy of classifier on scaled training set: {:.2f}'\n",
    "         .format(clf.score(scaledx3_train, y_train)))\n",
    "print('Accuracy of classifier on scaled test set: {:.2f}'\n",
    "         .format(clf.score(scaledx3_test, y_test)))"
   ]
  },
  {
   "cell_type": "markdown",
   "metadata": {},
   "source": [
    "* After scaling the data and doing grid search for best parameters, I found that grid suggested the model to use 25 features and max depth of 6,the accuracy of train data slightly improved to 0.86, but acurracy using test data remained same 0.82.\n",
    "* The model which uses 4 features and max depth of 3 can give the same text accuracy is 0.83, with trained data accuracy of 0.84. "
   ]
  },
  {
   "cell_type": "code",
   "execution_count": 195,
   "metadata": {},
   "outputs": [
    {
     "name": "stdout",
     "output_type": "stream",
     "text": [
      "Accuracy of Gaussian Naive Bayes classifier on training set: 0.60\n",
      "Accuracy of Gaussian Naive Bayes classifier on test set: 0.59\n"
     ]
    },
    {
     "name": "stderr",
     "output_type": "stream",
     "text": [
      "/Applications/anaconda3/lib/python3.8/site-packages/sklearn/utils/validation.py:63: DataConversionWarning: A column-vector y was passed when a 1d array was expected. Please change the shape of y to (n_samples, ), for example using ravel().\n",
      "  return f(*args, **kwargs)\n"
     ]
    }
   ],
   "source": [
    "# split data\n",
    "X_train, X_test, y_train, y_test = train_test_split(X, y, random_state=0)\n",
    "\n",
    "# train Gaussian Naive Bayes model\n",
    "gnb = GaussianNB().fit(X_train, y_train)\n",
    "\n",
    "# output stats\n",
    "print('Accuracy of Gaussian Naive Bayes classifier on training set: {:.2f}'\n",
    "         .format(gnb.score(X_train, y_train)))\n",
    "print('Accuracy of Gaussian Naive Bayes classifier on test set: {:.2f}'\n",
    "         .format(gnb.score(X_test, y_test)))"
   ]
  },
  {
   "cell_type": "markdown",
   "metadata": {},
   "source": [
    "## Bagging w/ Random forests"
   ]
  },
  {
   "cell_type": "code",
   "execution_count": 191,
   "metadata": {},
   "outputs": [
    {
     "name": "stderr",
     "output_type": "stream",
     "text": [
      "/Applications/anaconda3/lib/python3.8/site-packages/sklearn/model_selection/_validation.py:593: DataConversionWarning: A column-vector y was passed when a 1d array was expected. Please change the shape of y to (n_samples,), for example using ravel().\n",
      "  estimator.fit(X_train, y_train, **fit_params)\n",
      "/Applications/anaconda3/lib/python3.8/site-packages/sklearn/model_selection/_validation.py:593: DataConversionWarning: A column-vector y was passed when a 1d array was expected. Please change the shape of y to (n_samples,), for example using ravel().\n",
      "  estimator.fit(X_train, y_train, **fit_params)\n",
      "/Applications/anaconda3/lib/python3.8/site-packages/sklearn/model_selection/_validation.py:593: DataConversionWarning: A column-vector y was passed when a 1d array was expected. Please change the shape of y to (n_samples,), for example using ravel().\n",
      "  estimator.fit(X_train, y_train, **fit_params)\n",
      "/Applications/anaconda3/lib/python3.8/site-packages/sklearn/model_selection/_validation.py:593: DataConversionWarning: A column-vector y was passed when a 1d array was expected. Please change the shape of y to (n_samples,), for example using ravel().\n",
      "  estimator.fit(X_train, y_train, **fit_params)\n",
      "/Applications/anaconda3/lib/python3.8/site-packages/sklearn/model_selection/_validation.py:593: DataConversionWarning: A column-vector y was passed when a 1d array was expected. Please change the shape of y to (n_samples,), for example using ravel().\n",
      "  estimator.fit(X_train, y_train, **fit_params)\n",
      "/Applications/anaconda3/lib/python3.8/site-packages/sklearn/model_selection/_validation.py:593: DataConversionWarning: A column-vector y was passed when a 1d array was expected. Please change the shape of y to (n_samples,), for example using ravel().\n",
      "  estimator.fit(X_train, y_train, **fit_params)\n",
      "/Applications/anaconda3/lib/python3.8/site-packages/sklearn/model_selection/_validation.py:593: DataConversionWarning: A column-vector y was passed when a 1d array was expected. Please change the shape of y to (n_samples,), for example using ravel().\n",
      "  estimator.fit(X_train, y_train, **fit_params)\n",
      "/Applications/anaconda3/lib/python3.8/site-packages/sklearn/model_selection/_validation.py:593: DataConversionWarning: A column-vector y was passed when a 1d array was expected. Please change the shape of y to (n_samples,), for example using ravel().\n",
      "  estimator.fit(X_train, y_train, **fit_params)\n",
      "/Applications/anaconda3/lib/python3.8/site-packages/sklearn/model_selection/_validation.py:593: DataConversionWarning: A column-vector y was passed when a 1d array was expected. Please change the shape of y to (n_samples,), for example using ravel().\n",
      "  estimator.fit(X_train, y_train, **fit_params)\n",
      "/Applications/anaconda3/lib/python3.8/site-packages/sklearn/model_selection/_validation.py:593: DataConversionWarning: A column-vector y was passed when a 1d array was expected. Please change the shape of y to (n_samples,), for example using ravel().\n",
      "  estimator.fit(X_train, y_train, **fit_params)\n",
      "/Applications/anaconda3/lib/python3.8/site-packages/sklearn/model_selection/_validation.py:593: DataConversionWarning: A column-vector y was passed when a 1d array was expected. Please change the shape of y to (n_samples,), for example using ravel().\n",
      "  estimator.fit(X_train, y_train, **fit_params)\n",
      "/Applications/anaconda3/lib/python3.8/site-packages/sklearn/model_selection/_validation.py:593: DataConversionWarning: A column-vector y was passed when a 1d array was expected. Please change the shape of y to (n_samples,), for example using ravel().\n",
      "  estimator.fit(X_train, y_train, **fit_params)\n",
      "/Applications/anaconda3/lib/python3.8/site-packages/sklearn/model_selection/_validation.py:593: DataConversionWarning: A column-vector y was passed when a 1d array was expected. Please change the shape of y to (n_samples,), for example using ravel().\n",
      "  estimator.fit(X_train, y_train, **fit_params)\n",
      "/Applications/anaconda3/lib/python3.8/site-packages/sklearn/model_selection/_validation.py:593: DataConversionWarning: A column-vector y was passed when a 1d array was expected. Please change the shape of y to (n_samples,), for example using ravel().\n",
      "  estimator.fit(X_train, y_train, **fit_params)\n",
      "/Applications/anaconda3/lib/python3.8/site-packages/sklearn/model_selection/_validation.py:593: DataConversionWarning: A column-vector y was passed when a 1d array was expected. Please change the shape of y to (n_samples,), for example using ravel().\n",
      "  estimator.fit(X_train, y_train, **fit_params)\n",
      "/Applications/anaconda3/lib/python3.8/site-packages/sklearn/model_selection/_validation.py:593: DataConversionWarning: A column-vector y was passed when a 1d array was expected. Please change the shape of y to (n_samples,), for example using ravel().\n",
      "  estimator.fit(X_train, y_train, **fit_params)\n",
      "/Applications/anaconda3/lib/python3.8/site-packages/sklearn/model_selection/_validation.py:593: DataConversionWarning: A column-vector y was passed when a 1d array was expected. Please change the shape of y to (n_samples,), for example using ravel().\n",
      "  estimator.fit(X_train, y_train, **fit_params)\n",
      "/Applications/anaconda3/lib/python3.8/site-packages/sklearn/model_selection/_validation.py:593: DataConversionWarning: A column-vector y was passed when a 1d array was expected. Please change the shape of y to (n_samples,), for example using ravel().\n",
      "  estimator.fit(X_train, y_train, **fit_params)\n",
      "/Applications/anaconda3/lib/python3.8/site-packages/sklearn/model_selection/_validation.py:593: DataConversionWarning: A column-vector y was passed when a 1d array was expected. Please change the shape of y to (n_samples,), for example using ravel().\n",
      "  estimator.fit(X_train, y_train, **fit_params)\n",
      "/Applications/anaconda3/lib/python3.8/site-packages/sklearn/model_selection/_validation.py:593: DataConversionWarning: A column-vector y was passed when a 1d array was expected. Please change the shape of y to (n_samples,), for example using ravel().\n",
      "  estimator.fit(X_train, y_train, **fit_params)\n",
      "/Applications/anaconda3/lib/python3.8/site-packages/sklearn/model_selection/_validation.py:593: DataConversionWarning: A column-vector y was passed when a 1d array was expected. Please change the shape of y to (n_samples,), for example using ravel().\n",
      "  estimator.fit(X_train, y_train, **fit_params)\n",
      "/Applications/anaconda3/lib/python3.8/site-packages/sklearn/model_selection/_validation.py:593: DataConversionWarning: A column-vector y was passed when a 1d array was expected. Please change the shape of y to (n_samples,), for example using ravel().\n",
      "  estimator.fit(X_train, y_train, **fit_params)\n",
      "/Applications/anaconda3/lib/python3.8/site-packages/sklearn/model_selection/_validation.py:593: DataConversionWarning: A column-vector y was passed when a 1d array was expected. Please change the shape of y to (n_samples,), for example using ravel().\n",
      "  estimator.fit(X_train, y_train, **fit_params)\n",
      "/Applications/anaconda3/lib/python3.8/site-packages/sklearn/model_selection/_validation.py:593: DataConversionWarning: A column-vector y was passed when a 1d array was expected. Please change the shape of y to (n_samples,), for example using ravel().\n",
      "  estimator.fit(X_train, y_train, **fit_params)\n",
      "/Applications/anaconda3/lib/python3.8/site-packages/sklearn/model_selection/_validation.py:593: DataConversionWarning: A column-vector y was passed when a 1d array was expected. Please change the shape of y to (n_samples,), for example using ravel().\n",
      "  estimator.fit(X_train, y_train, **fit_params)\n",
      "/Applications/anaconda3/lib/python3.8/site-packages/sklearn/model_selection/_validation.py:593: DataConversionWarning: A column-vector y was passed when a 1d array was expected. Please change the shape of y to (n_samples,), for example using ravel().\n",
      "  estimator.fit(X_train, y_train, **fit_params)\n",
      "/Applications/anaconda3/lib/python3.8/site-packages/sklearn/model_selection/_validation.py:593: DataConversionWarning: A column-vector y was passed when a 1d array was expected. Please change the shape of y to (n_samples,), for example using ravel().\n",
      "  estimator.fit(X_train, y_train, **fit_params)\n",
      "/Applications/anaconda3/lib/python3.8/site-packages/sklearn/model_selection/_search.py:880: DataConversionWarning: A column-vector y was passed when a 1d array was expected. Please change the shape of y to (n_samples,), for example using ravel().\n",
      "  self.best_estimator_.fit(X, y, **fit_params)\n"
     ]
    },
    {
     "name": "stdout",
     "output_type": "stream",
     "text": [
      "\n",
      "params: {'max_samples': 0.25, 'n_estimators': 10}\n",
      "mean of accuracies: 0.812470836190995\n",
      "std dev of accuracies: 0.003887815489782332\n",
      "\n",
      "params: {'max_samples': 0.25, 'n_estimators': 100}\n",
      "mean of accuracies: 0.8329113388889411\n",
      "std dev of accuracies: 0.007733597168907484\n",
      "\n",
      "params: {'max_samples': 0.25, 'n_estimators': 250}\n",
      "mean of accuracies: 0.8349539799008509\n",
      "std dev of accuracies: 0.004297462684870786\n",
      "\n",
      "params: {'max_samples': 0.5, 'n_estimators': 10}\n",
      "mean of accuracies: 0.8160456536920991\n",
      "std dev of accuracies: 0.008195232408881863\n",
      "\n",
      "params: {'max_samples': 0.5, 'n_estimators': 100}\n",
      "mean of accuracies: 0.8288221422598859\n",
      "std dev of accuracies: 0.004293864513293139\n",
      "\n",
      "params: {'max_samples': 0.5, 'n_estimators': 250}\n",
      "mean of accuracies: 0.8272899657706918\n",
      "std dev of accuracies: 0.004612735741238098\n",
      "\n",
      "params: {'max_samples': 1, 'n_estimators': 10}\n",
      "mean of accuracies: 0.582013328447906\n",
      "std dev of accuracies: 0.0006289434341565789\n",
      "\n",
      "params: {'max_samples': 1, 'n_estimators': 100}\n",
      "mean of accuracies: 0.582013328447906\n",
      "std dev of accuracies: 0.0006289434341565789\n",
      "\n",
      "params: {'max_samples': 1, 'n_estimators': 250}\n",
      "mean of accuracies: 0.582013328447906\n",
      "std dev of accuracies: 0.0006289434341565789\n",
      "\n",
      "***best parameters: {'max_samples': 0.25, 'n_estimators': 250}\n",
      "best score: 0.8349539799008509\n",
      "\n",
      "computation took 0.06533621152242025 minutes\n"
     ]
    }
   ],
   "source": [
    "start = time.time()\n",
    "\n",
    "# scale data first (note: should put this in a pipeline to avoid data leakage)\n",
    "scaler = MinMaxScaler()\n",
    "scaled_X = scaler.fit_transform(X)\n",
    "\n",
    "# set-up grid of parameters to search\n",
    "param_grid = {'n_estimators': [10, 100, 250], 'max_samples': [.25, .5, 1]} \n",
    "# n_estimators controls how many models to aggregate (i.e., how many trees in the forest)\n",
    "#  each model will work with a random sample of features\n",
    "#  and also with the max_samples parameter, a random sample of observations \n",
    "# max_samples controls what % of the observations each tree will use\n",
    "# note: could also set max_features to control # of different features to sample\n",
    "#  default: max_features=sqrt(n_features)\n",
    "\n",
    "# instantiate grid search object\n",
    "grid = GridSearchCV(RandomForestClassifier(), param_grid, cv = 3)\n",
    "\n",
    "# fitting the model for grid search \n",
    "grid.fit(scaled_X, y)\n",
    "\n",
    "#max_features=sqrt(n_features)\n",
    "\n",
    "# print parameters, mean, and standard deviation of scores by iteration\n",
    "for z in range(0, len(grid.cv_results_['params'])):\n",
    "    print('\\nparams:', grid.cv_results_['params'][z])\n",
    "    print('mean of accuracies:', grid.cv_results_['mean_test_score'][z])\n",
    "    print('std dev of accuracies:', grid.cv_results_['std_test_score'][z])\n",
    "#    print('maximum features',max_features)\n",
    "\n",
    "# print best parameter after tuning \n",
    "print('\\n***best parameters:', grid.best_params_)\n",
    "print('best score:', grid.best_score_)\n",
    "\n",
    "# store the best estimator\n",
    "best_rf = grid.best_estimator_\n",
    "\n",
    "mins = (time.time() - start) / 60\n",
    "print('\\ncomputation took', mins, 'minutes')"
   ]
  },
  {
   "cell_type": "code",
   "execution_count": 192,
   "metadata": {},
   "outputs": [
    {
     "data": {
      "text/plain": [
       "<matplotlib.legend.Legend at 0x7fcd50e085b0>"
      ]
     },
     "execution_count": 192,
     "metadata": {},
     "output_type": "execute_result"
    },
    {
     "data": {
      "image/png": "[encoded data removed]",
      "text/plain": [
       "<Figure size 432x288 with 1 Axes>"
      ]
     },
     "metadata": {
      "needs_background": "light"
     },
     "output_type": "display_data"
    }
   ],
   "source": [
    "# graphing the results\n",
    "\n",
    "# compile parameter and results into a dataframe\n",
    "tmp = pd.DataFrame(grid.cv_results_['params'])\n",
    "tmp2 = pd.DataFrame(grid.cv_results_['mean_test_score'], columns=['mean_test_score'])\n",
    "tmp = pd.concat([tmp, tmp2], axis=1)\n",
    "tmp.head()\n",
    "\n",
    "# send to a graph\n",
    "fig, ax = plt.subplots(figsize=(6,4))\n",
    "for label, dfs in tmp.groupby('max_samples'):\n",
    "    plt.plot(dfs.n_estimators, dfs.mean_test_score, marker='x', label=label)\n",
    "plt.xlabel('n_estimators')\n",
    "plt.ylabel('mean_test_accuracy')\n",
    "plt.legend(title='max_samples')"
   ]
  },
  {
   "cell_type": "markdown",
   "metadata": {},
   "source": [
    "## Boosting w/ stochastic gradient boosting"
   ]
  },
  {
   "cell_type": "code",
   "execution_count": 193,
   "metadata": {},
   "outputs": [
    {
     "name": "stderr",
     "output_type": "stream",
     "text": [
      "/Applications/anaconda3/lib/python3.8/site-packages/sklearn/utils/validation.py:63: DataConversionWarning: A column-vector y was passed when a 1d array was expected. Please change the shape of y to (n_samples, ), for example using ravel().\n",
      "  return f(*args, **kwargs)\n",
      "/Applications/anaconda3/lib/python3.8/site-packages/sklearn/utils/validation.py:63: DataConversionWarning: A column-vector y was passed when a 1d array was expected. Please change the shape of y to (n_samples, ), for example using ravel().\n",
      "  return f(*args, **kwargs)\n",
      "/Applications/anaconda3/lib/python3.8/site-packages/sklearn/utils/validation.py:63: DataConversionWarning: A column-vector y was passed when a 1d array was expected. Please change the shape of y to (n_samples, ), for example using ravel().\n",
      "  return f(*args, **kwargs)\n",
      "/Applications/anaconda3/lib/python3.8/site-packages/sklearn/utils/validation.py:63: DataConversionWarning: A column-vector y was passed when a 1d array was expected. Please change the shape of y to (n_samples, ), for example using ravel().\n",
      "  return f(*args, **kwargs)\n",
      "/Applications/anaconda3/lib/python3.8/site-packages/sklearn/utils/validation.py:63: DataConversionWarning: A column-vector y was passed when a 1d array was expected. Please change the shape of y to (n_samples, ), for example using ravel().\n",
      "  return f(*args, **kwargs)\n",
      "/Applications/anaconda3/lib/python3.8/site-packages/sklearn/utils/validation.py:63: DataConversionWarning: A column-vector y was passed when a 1d array was expected. Please change the shape of y to (n_samples, ), for example using ravel().\n",
      "  return f(*args, **kwargs)\n",
      "/Applications/anaconda3/lib/python3.8/site-packages/sklearn/utils/validation.py:63: DataConversionWarning: A column-vector y was passed when a 1d array was expected. Please change the shape of y to (n_samples, ), for example using ravel().\n",
      "  return f(*args, **kwargs)\n",
      "/Applications/anaconda3/lib/python3.8/site-packages/sklearn/utils/validation.py:63: DataConversionWarning: A column-vector y was passed when a 1d array was expected. Please change the shape of y to (n_samples, ), for example using ravel().\n",
      "  return f(*args, **kwargs)\n",
      "/Applications/anaconda3/lib/python3.8/site-packages/sklearn/utils/validation.py:63: DataConversionWarning: A column-vector y was passed when a 1d array was expected. Please change the shape of y to (n_samples, ), for example using ravel().\n",
      "  return f(*args, **kwargs)\n",
      "/Applications/anaconda3/lib/python3.8/site-packages/sklearn/utils/validation.py:63: DataConversionWarning: A column-vector y was passed when a 1d array was expected. Please change the shape of y to (n_samples, ), for example using ravel().\n",
      "  return f(*args, **kwargs)\n",
      "/Applications/anaconda3/lib/python3.8/site-packages/sklearn/utils/validation.py:63: DataConversionWarning: A column-vector y was passed when a 1d array was expected. Please change the shape of y to (n_samples, ), for example using ravel().\n",
      "  return f(*args, **kwargs)\n",
      "/Applications/anaconda3/lib/python3.8/site-packages/sklearn/utils/validation.py:63: DataConversionWarning: A column-vector y was passed when a 1d array was expected. Please change the shape of y to (n_samples, ), for example using ravel().\n",
      "  return f(*args, **kwargs)\n",
      "/Applications/anaconda3/lib/python3.8/site-packages/sklearn/utils/validation.py:63: DataConversionWarning: A column-vector y was passed when a 1d array was expected. Please change the shape of y to (n_samples, ), for example using ravel().\n",
      "  return f(*args, **kwargs)\n",
      "/Applications/anaconda3/lib/python3.8/site-packages/sklearn/utils/validation.py:63: DataConversionWarning: A column-vector y was passed when a 1d array was expected. Please change the shape of y to (n_samples, ), for example using ravel().\n",
      "  return f(*args, **kwargs)\n",
      "/Applications/anaconda3/lib/python3.8/site-packages/sklearn/utils/validation.py:63: DataConversionWarning: A column-vector y was passed when a 1d array was expected. Please change the shape of y to (n_samples, ), for example using ravel().\n",
      "  return f(*args, **kwargs)\n",
      "/Applications/anaconda3/lib/python3.8/site-packages/sklearn/utils/validation.py:63: DataConversionWarning: A column-vector y was passed when a 1d array was expected. Please change the shape of y to (n_samples, ), for example using ravel().\n",
      "  return f(*args, **kwargs)\n",
      "/Applications/anaconda3/lib/python3.8/site-packages/sklearn/utils/validation.py:63: DataConversionWarning: A column-vector y was passed when a 1d array was expected. Please change the shape of y to (n_samples, ), for example using ravel().\n",
      "  return f(*args, **kwargs)\n",
      "/Applications/anaconda3/lib/python3.8/site-packages/sklearn/utils/validation.py:63: DataConversionWarning: A column-vector y was passed when a 1d array was expected. Please change the shape of y to (n_samples, ), for example using ravel().\n",
      "  return f(*args, **kwargs)\n",
      "/Applications/anaconda3/lib/python3.8/site-packages/sklearn/utils/validation.py:63: DataConversionWarning: A column-vector y was passed when a 1d array was expected. Please change the shape of y to (n_samples, ), for example using ravel().\n",
      "  return f(*args, **kwargs)\n",
      "/Applications/anaconda3/lib/python3.8/site-packages/sklearn/utils/validation.py:63: DataConversionWarning: A column-vector y was passed when a 1d array was expected. Please change the shape of y to (n_samples, ), for example using ravel().\n",
      "  return f(*args, **kwargs)\n",
      "/Applications/anaconda3/lib/python3.8/site-packages/sklearn/utils/validation.py:63: DataConversionWarning: A column-vector y was passed when a 1d array was expected. Please change the shape of y to (n_samples, ), for example using ravel().\n",
      "  return f(*args, **kwargs)\n",
      "/Applications/anaconda3/lib/python3.8/site-packages/sklearn/utils/validation.py:63: DataConversionWarning: A column-vector y was passed when a 1d array was expected. Please change the shape of y to (n_samples, ), for example using ravel().\n",
      "  return f(*args, **kwargs)\n",
      "/Applications/anaconda3/lib/python3.8/site-packages/sklearn/utils/validation.py:63: DataConversionWarning: A column-vector y was passed when a 1d array was expected. Please change the shape of y to (n_samples, ), for example using ravel().\n",
      "  return f(*args, **kwargs)\n",
      "/Applications/anaconda3/lib/python3.8/site-packages/sklearn/utils/validation.py:63: DataConversionWarning: A column-vector y was passed when a 1d array was expected. Please change the shape of y to (n_samples, ), for example using ravel().\n",
      "  return f(*args, **kwargs)\n",
      "/Applications/anaconda3/lib/python3.8/site-packages/sklearn/utils/validation.py:63: DataConversionWarning: A column-vector y was passed when a 1d array was expected. Please change the shape of y to (n_samples, ), for example using ravel().\n",
      "  return f(*args, **kwargs)\n",
      "/Applications/anaconda3/lib/python3.8/site-packages/sklearn/utils/validation.py:63: DataConversionWarning: A column-vector y was passed when a 1d array was expected. Please change the shape of y to (n_samples, ), for example using ravel().\n",
      "  return f(*args, **kwargs)\n",
      "/Applications/anaconda3/lib/python3.8/site-packages/sklearn/utils/validation.py:63: DataConversionWarning: A column-vector y was passed when a 1d array was expected. Please change the shape of y to (n_samples, ), for example using ravel().\n",
      "  return f(*args, **kwargs)\n",
      "/Applications/anaconda3/lib/python3.8/site-packages/sklearn/utils/validation.py:63: DataConversionWarning: A column-vector y was passed when a 1d array was expected. Please change the shape of y to (n_samples, ), for example using ravel().\n",
      "  return f(*args, **kwargs)\n",
      "/Applications/anaconda3/lib/python3.8/site-packages/sklearn/utils/validation.py:63: DataConversionWarning: A column-vector y was passed when a 1d array was expected. Please change the shape of y to (n_samples, ), for example using ravel().\n",
      "  return f(*args, **kwargs)\n",
      "/Applications/anaconda3/lib/python3.8/site-packages/sklearn/utils/validation.py:63: DataConversionWarning: A column-vector y was passed when a 1d array was expected. Please change the shape of y to (n_samples, ), for example using ravel().\n",
      "  return f(*args, **kwargs)\n",
      "/Applications/anaconda3/lib/python3.8/site-packages/sklearn/utils/validation.py:63: DataConversionWarning: A column-vector y was passed when a 1d array was expected. Please change the shape of y to (n_samples, ), for example using ravel().\n",
      "  return f(*args, **kwargs)\n"
     ]
    },
    {
     "name": "stderr",
     "output_type": "stream",
     "text": [
      "/Applications/anaconda3/lib/python3.8/site-packages/sklearn/utils/validation.py:63: DataConversionWarning: A column-vector y was passed when a 1d array was expected. Please change the shape of y to (n_samples, ), for example using ravel().\n",
      "  return f(*args, **kwargs)\n",
      "/Applications/anaconda3/lib/python3.8/site-packages/sklearn/utils/validation.py:63: DataConversionWarning: A column-vector y was passed when a 1d array was expected. Please change the shape of y to (n_samples, ), for example using ravel().\n",
      "  return f(*args, **kwargs)\n",
      "/Applications/anaconda3/lib/python3.8/site-packages/sklearn/utils/validation.py:63: DataConversionWarning: A column-vector y was passed when a 1d array was expected. Please change the shape of y to (n_samples, ), for example using ravel().\n",
      "  return f(*args, **kwargs)\n",
      "/Applications/anaconda3/lib/python3.8/site-packages/sklearn/utils/validation.py:63: DataConversionWarning: A column-vector y was passed when a 1d array was expected. Please change the shape of y to (n_samples, ), for example using ravel().\n",
      "  return f(*args, **kwargs)\n",
      "/Applications/anaconda3/lib/python3.8/site-packages/sklearn/utils/validation.py:63: DataConversionWarning: A column-vector y was passed when a 1d array was expected. Please change the shape of y to (n_samples, ), for example using ravel().\n",
      "  return f(*args, **kwargs)\n",
      "/Applications/anaconda3/lib/python3.8/site-packages/sklearn/utils/validation.py:63: DataConversionWarning: A column-vector y was passed when a 1d array was expected. Please change the shape of y to (n_samples, ), for example using ravel().\n",
      "  return f(*args, **kwargs)\n",
      "/Applications/anaconda3/lib/python3.8/site-packages/sklearn/utils/validation.py:63: DataConversionWarning: A column-vector y was passed when a 1d array was expected. Please change the shape of y to (n_samples, ), for example using ravel().\n",
      "  return f(*args, **kwargs)\n",
      "/Applications/anaconda3/lib/python3.8/site-packages/sklearn/utils/validation.py:63: DataConversionWarning: A column-vector y was passed when a 1d array was expected. Please change the shape of y to (n_samples, ), for example using ravel().\n",
      "  return f(*args, **kwargs)\n",
      "/Applications/anaconda3/lib/python3.8/site-packages/sklearn/utils/validation.py:63: DataConversionWarning: A column-vector y was passed when a 1d array was expected. Please change the shape of y to (n_samples, ), for example using ravel().\n",
      "  return f(*args, **kwargs)\n",
      "/Applications/anaconda3/lib/python3.8/site-packages/sklearn/utils/validation.py:63: DataConversionWarning: A column-vector y was passed when a 1d array was expected. Please change the shape of y to (n_samples, ), for example using ravel().\n",
      "  return f(*args, **kwargs)\n",
      "/Applications/anaconda3/lib/python3.8/site-packages/sklearn/utils/validation.py:63: DataConversionWarning: A column-vector y was passed when a 1d array was expected. Please change the shape of y to (n_samples, ), for example using ravel().\n",
      "  return f(*args, **kwargs)\n",
      "/Applications/anaconda3/lib/python3.8/site-packages/sklearn/utils/validation.py:63: DataConversionWarning: A column-vector y was passed when a 1d array was expected. Please change the shape of y to (n_samples, ), for example using ravel().\n",
      "  return f(*args, **kwargs)\n",
      "/Applications/anaconda3/lib/python3.8/site-packages/sklearn/utils/validation.py:63: DataConversionWarning: A column-vector y was passed when a 1d array was expected. Please change the shape of y to (n_samples, ), for example using ravel().\n",
      "  return f(*args, **kwargs)\n",
      "/Applications/anaconda3/lib/python3.8/site-packages/sklearn/utils/validation.py:63: DataConversionWarning: A column-vector y was passed when a 1d array was expected. Please change the shape of y to (n_samples, ), for example using ravel().\n",
      "  return f(*args, **kwargs)\n",
      "/Applications/anaconda3/lib/python3.8/site-packages/sklearn/utils/validation.py:63: DataConversionWarning: A column-vector y was passed when a 1d array was expected. Please change the shape of y to (n_samples, ), for example using ravel().\n",
      "  return f(*args, **kwargs)\n",
      "/Applications/anaconda3/lib/python3.8/site-packages/sklearn/utils/validation.py:63: DataConversionWarning: A column-vector y was passed when a 1d array was expected. Please change the shape of y to (n_samples, ), for example using ravel().\n",
      "  return f(*args, **kwargs)\n",
      "/Applications/anaconda3/lib/python3.8/site-packages/sklearn/utils/validation.py:63: DataConversionWarning: A column-vector y was passed when a 1d array was expected. Please change the shape of y to (n_samples, ), for example using ravel().\n",
      "  return f(*args, **kwargs)\n",
      "/Applications/anaconda3/lib/python3.8/site-packages/sklearn/utils/validation.py:63: DataConversionWarning: A column-vector y was passed when a 1d array was expected. Please change the shape of y to (n_samples, ), for example using ravel().\n",
      "  return f(*args, **kwargs)\n",
      "/Applications/anaconda3/lib/python3.8/site-packages/sklearn/utils/validation.py:63: DataConversionWarning: A column-vector y was passed when a 1d array was expected. Please change the shape of y to (n_samples, ), for example using ravel().\n",
      "  return f(*args, **kwargs)\n",
      "/Applications/anaconda3/lib/python3.8/site-packages/sklearn/utils/validation.py:63: DataConversionWarning: A column-vector y was passed when a 1d array was expected. Please change the shape of y to (n_samples, ), for example using ravel().\n",
      "  return f(*args, **kwargs)\n",
      "/Applications/anaconda3/lib/python3.8/site-packages/sklearn/utils/validation.py:63: DataConversionWarning: A column-vector y was passed when a 1d array was expected. Please change the shape of y to (n_samples, ), for example using ravel().\n",
      "  return f(*args, **kwargs)\n",
      "/Applications/anaconda3/lib/python3.8/site-packages/sklearn/utils/validation.py:63: DataConversionWarning: A column-vector y was passed when a 1d array was expected. Please change the shape of y to (n_samples, ), for example using ravel().\n",
      "  return f(*args, **kwargs)\n",
      "/Applications/anaconda3/lib/python3.8/site-packages/sklearn/utils/validation.py:63: DataConversionWarning: A column-vector y was passed when a 1d array was expected. Please change the shape of y to (n_samples, ), for example using ravel().\n",
      "  return f(*args, **kwargs)\n",
      "/Applications/anaconda3/lib/python3.8/site-packages/sklearn/utils/validation.py:63: DataConversionWarning: A column-vector y was passed when a 1d array was expected. Please change the shape of y to (n_samples, ), for example using ravel().\n",
      "  return f(*args, **kwargs)\n",
      "/Applications/anaconda3/lib/python3.8/site-packages/sklearn/utils/validation.py:63: DataConversionWarning: A column-vector y was passed when a 1d array was expected. Please change the shape of y to (n_samples, ), for example using ravel().\n",
      "  return f(*args, **kwargs)\n",
      "/Applications/anaconda3/lib/python3.8/site-packages/sklearn/utils/validation.py:63: DataConversionWarning: A column-vector y was passed when a 1d array was expected. Please change the shape of y to (n_samples, ), for example using ravel().\n",
      "  return f(*args, **kwargs)\n",
      "/Applications/anaconda3/lib/python3.8/site-packages/sklearn/utils/validation.py:63: DataConversionWarning: A column-vector y was passed when a 1d array was expected. Please change the shape of y to (n_samples, ), for example using ravel().\n",
      "  return f(*args, **kwargs)\n",
      "/Applications/anaconda3/lib/python3.8/site-packages/sklearn/utils/validation.py:63: DataConversionWarning: A column-vector y was passed when a 1d array was expected. Please change the shape of y to (n_samples, ), for example using ravel().\n",
      "  return f(*args, **kwargs)\n",
      "/Applications/anaconda3/lib/python3.8/site-packages/sklearn/utils/validation.py:63: DataConversionWarning: A column-vector y was passed when a 1d array was expected. Please change the shape of y to (n_samples, ), for example using ravel().\n",
      "  return f(*args, **kwargs)\n",
      "/Applications/anaconda3/lib/python3.8/site-packages/sklearn/utils/validation.py:63: DataConversionWarning: A column-vector y was passed when a 1d array was expected. Please change the shape of y to (n_samples, ), for example using ravel().\n",
      "  return f(*args, **kwargs)\n",
      "/Applications/anaconda3/lib/python3.8/site-packages/sklearn/utils/validation.py:63: DataConversionWarning: A column-vector y was passed when a 1d array was expected. Please change the shape of y to (n_samples, ), for example using ravel().\n",
      "  return f(*args, **kwargs)\n"
     ]
    },
    {
     "name": "stderr",
     "output_type": "stream",
     "text": [
      "/Applications/anaconda3/lib/python3.8/site-packages/sklearn/utils/validation.py:63: DataConversionWarning: A column-vector y was passed when a 1d array was expected. Please change the shape of y to (n_samples, ), for example using ravel().\n",
      "  return f(*args, **kwargs)\n",
      "/Applications/anaconda3/lib/python3.8/site-packages/sklearn/utils/validation.py:63: DataConversionWarning: A column-vector y was passed when a 1d array was expected. Please change the shape of y to (n_samples, ), for example using ravel().\n",
      "  return f(*args, **kwargs)\n",
      "/Applications/anaconda3/lib/python3.8/site-packages/sklearn/utils/validation.py:63: DataConversionWarning: A column-vector y was passed when a 1d array was expected. Please change the shape of y to (n_samples, ), for example using ravel().\n",
      "  return f(*args, **kwargs)\n",
      "/Applications/anaconda3/lib/python3.8/site-packages/sklearn/utils/validation.py:63: DataConversionWarning: A column-vector y was passed when a 1d array was expected. Please change the shape of y to (n_samples, ), for example using ravel().\n",
      "  return f(*args, **kwargs)\n",
      "/Applications/anaconda3/lib/python3.8/site-packages/sklearn/utils/validation.py:63: DataConversionWarning: A column-vector y was passed when a 1d array was expected. Please change the shape of y to (n_samples, ), for example using ravel().\n",
      "  return f(*args, **kwargs)\n",
      "/Applications/anaconda3/lib/python3.8/site-packages/sklearn/utils/validation.py:63: DataConversionWarning: A column-vector y was passed when a 1d array was expected. Please change the shape of y to (n_samples, ), for example using ravel().\n",
      "  return f(*args, **kwargs)\n",
      "/Applications/anaconda3/lib/python3.8/site-packages/sklearn/utils/validation.py:63: DataConversionWarning: A column-vector y was passed when a 1d array was expected. Please change the shape of y to (n_samples, ), for example using ravel().\n",
      "  return f(*args, **kwargs)\n",
      "/Applications/anaconda3/lib/python3.8/site-packages/sklearn/utils/validation.py:63: DataConversionWarning: A column-vector y was passed when a 1d array was expected. Please change the shape of y to (n_samples, ), for example using ravel().\n",
      "  return f(*args, **kwargs)\n",
      "/Applications/anaconda3/lib/python3.8/site-packages/sklearn/utils/validation.py:63: DataConversionWarning: A column-vector y was passed when a 1d array was expected. Please change the shape of y to (n_samples, ), for example using ravel().\n",
      "  return f(*args, **kwargs)\n",
      "/Applications/anaconda3/lib/python3.8/site-packages/sklearn/utils/validation.py:63: DataConversionWarning: A column-vector y was passed when a 1d array was expected. Please change the shape of y to (n_samples, ), for example using ravel().\n",
      "  return f(*args, **kwargs)\n",
      "/Applications/anaconda3/lib/python3.8/site-packages/sklearn/utils/validation.py:63: DataConversionWarning: A column-vector y was passed when a 1d array was expected. Please change the shape of y to (n_samples, ), for example using ravel().\n",
      "  return f(*args, **kwargs)\n",
      "/Applications/anaconda3/lib/python3.8/site-packages/sklearn/utils/validation.py:63: DataConversionWarning: A column-vector y was passed when a 1d array was expected. Please change the shape of y to (n_samples, ), for example using ravel().\n",
      "  return f(*args, **kwargs)\n",
      "/Applications/anaconda3/lib/python3.8/site-packages/sklearn/utils/validation.py:63: DataConversionWarning: A column-vector y was passed when a 1d array was expected. Please change the shape of y to (n_samples, ), for example using ravel().\n",
      "  return f(*args, **kwargs)\n",
      "/Applications/anaconda3/lib/python3.8/site-packages/sklearn/utils/validation.py:63: DataConversionWarning: A column-vector y was passed when a 1d array was expected. Please change the shape of y to (n_samples, ), for example using ravel().\n",
      "  return f(*args, **kwargs)\n",
      "/Applications/anaconda3/lib/python3.8/site-packages/sklearn/utils/validation.py:63: DataConversionWarning: A column-vector y was passed when a 1d array was expected. Please change the shape of y to (n_samples, ), for example using ravel().\n",
      "  return f(*args, **kwargs)\n",
      "/Applications/anaconda3/lib/python3.8/site-packages/sklearn/utils/validation.py:63: DataConversionWarning: A column-vector y was passed when a 1d array was expected. Please change the shape of y to (n_samples, ), for example using ravel().\n",
      "  return f(*args, **kwargs)\n",
      "/Applications/anaconda3/lib/python3.8/site-packages/sklearn/utils/validation.py:63: DataConversionWarning: A column-vector y was passed when a 1d array was expected. Please change the shape of y to (n_samples, ), for example using ravel().\n",
      "  return f(*args, **kwargs)\n",
      "/Applications/anaconda3/lib/python3.8/site-packages/sklearn/utils/validation.py:63: DataConversionWarning: A column-vector y was passed when a 1d array was expected. Please change the shape of y to (n_samples, ), for example using ravel().\n",
      "  return f(*args, **kwargs)\n",
      "/Applications/anaconda3/lib/python3.8/site-packages/sklearn/utils/validation.py:63: DataConversionWarning: A column-vector y was passed when a 1d array was expected. Please change the shape of y to (n_samples, ), for example using ravel().\n",
      "  return f(*args, **kwargs)\n",
      "/Applications/anaconda3/lib/python3.8/site-packages/sklearn/utils/validation.py:63: DataConversionWarning: A column-vector y was passed when a 1d array was expected. Please change the shape of y to (n_samples, ), for example using ravel().\n",
      "  return f(*args, **kwargs)\n",
      "/Applications/anaconda3/lib/python3.8/site-packages/sklearn/utils/validation.py:63: DataConversionWarning: A column-vector y was passed when a 1d array was expected. Please change the shape of y to (n_samples, ), for example using ravel().\n",
      "  return f(*args, **kwargs)\n",
      "/Applications/anaconda3/lib/python3.8/site-packages/sklearn/utils/validation.py:63: DataConversionWarning: A column-vector y was passed when a 1d array was expected. Please change the shape of y to (n_samples, ), for example using ravel().\n",
      "  return f(*args, **kwargs)\n",
      "/Applications/anaconda3/lib/python3.8/site-packages/sklearn/utils/validation.py:63: DataConversionWarning: A column-vector y was passed when a 1d array was expected. Please change the shape of y to (n_samples, ), for example using ravel().\n",
      "  return f(*args, **kwargs)\n",
      "/Applications/anaconda3/lib/python3.8/site-packages/sklearn/utils/validation.py:63: DataConversionWarning: A column-vector y was passed when a 1d array was expected. Please change the shape of y to (n_samples, ), for example using ravel().\n",
      "  return f(*args, **kwargs)\n",
      "/Applications/anaconda3/lib/python3.8/site-packages/sklearn/utils/validation.py:63: DataConversionWarning: A column-vector y was passed when a 1d array was expected. Please change the shape of y to (n_samples, ), for example using ravel().\n",
      "  return f(*args, **kwargs)\n",
      "/Applications/anaconda3/lib/python3.8/site-packages/sklearn/utils/validation.py:63: DataConversionWarning: A column-vector y was passed when a 1d array was expected. Please change the shape of y to (n_samples, ), for example using ravel().\n",
      "  return f(*args, **kwargs)\n",
      "/Applications/anaconda3/lib/python3.8/site-packages/sklearn/utils/validation.py:63: DataConversionWarning: A column-vector y was passed when a 1d array was expected. Please change the shape of y to (n_samples, ), for example using ravel().\n",
      "  return f(*args, **kwargs)\n",
      "/Applications/anaconda3/lib/python3.8/site-packages/sklearn/utils/validation.py:63: DataConversionWarning: A column-vector y was passed when a 1d array was expected. Please change the shape of y to (n_samples, ), for example using ravel().\n",
      "  return f(*args, **kwargs)\n",
      "/Applications/anaconda3/lib/python3.8/site-packages/sklearn/utils/validation.py:63: DataConversionWarning: A column-vector y was passed when a 1d array was expected. Please change the shape of y to (n_samples, ), for example using ravel().\n",
      "  return f(*args, **kwargs)\n",
      "/Applications/anaconda3/lib/python3.8/site-packages/sklearn/utils/validation.py:63: DataConversionWarning: A column-vector y was passed when a 1d array was expected. Please change the shape of y to (n_samples, ), for example using ravel().\n",
      "  return f(*args, **kwargs)\n",
      "/Applications/anaconda3/lib/python3.8/site-packages/sklearn/utils/validation.py:63: DataConversionWarning: A column-vector y was passed when a 1d array was expected. Please change the shape of y to (n_samples, ), for example using ravel().\n",
      "  return f(*args, **kwargs)\n",
      "/Applications/anaconda3/lib/python3.8/site-packages/sklearn/utils/validation.py:63: DataConversionWarning: A column-vector y was passed when a 1d array was expected. Please change the shape of y to (n_samples, ), for example using ravel().\n",
      "  return f(*args, **kwargs)\n",
      "/Applications/anaconda3/lib/python3.8/site-packages/sklearn/utils/validation.py:63: DataConversionWarning: A column-vector y was passed when a 1d array was expected. Please change the shape of y to (n_samples, ), for example using ravel().\n",
      "  return f(*args, **kwargs)\n"
     ]
    },
    {
     "name": "stderr",
     "output_type": "stream",
     "text": [
      "/Applications/anaconda3/lib/python3.8/site-packages/sklearn/utils/validation.py:63: DataConversionWarning: A column-vector y was passed when a 1d array was expected. Please change the shape of y to (n_samples, ), for example using ravel().\n",
      "  return f(*args, **kwargs)\n",
      "/Applications/anaconda3/lib/python3.8/site-packages/sklearn/utils/validation.py:63: DataConversionWarning: A column-vector y was passed when a 1d array was expected. Please change the shape of y to (n_samples, ), for example using ravel().\n",
      "  return f(*args, **kwargs)\n",
      "/Applications/anaconda3/lib/python3.8/site-packages/sklearn/utils/validation.py:63: DataConversionWarning: A column-vector y was passed when a 1d array was expected. Please change the shape of y to (n_samples, ), for example using ravel().\n",
      "  return f(*args, **kwargs)\n",
      "/Applications/anaconda3/lib/python3.8/site-packages/sklearn/utils/validation.py:63: DataConversionWarning: A column-vector y was passed when a 1d array was expected. Please change the shape of y to (n_samples, ), for example using ravel().\n",
      "  return f(*args, **kwargs)\n",
      "/Applications/anaconda3/lib/python3.8/site-packages/sklearn/utils/validation.py:63: DataConversionWarning: A column-vector y was passed when a 1d array was expected. Please change the shape of y to (n_samples, ), for example using ravel().\n",
      "  return f(*args, **kwargs)\n",
      "/Applications/anaconda3/lib/python3.8/site-packages/sklearn/utils/validation.py:63: DataConversionWarning: A column-vector y was passed when a 1d array was expected. Please change the shape of y to (n_samples, ), for example using ravel().\n",
      "  return f(*args, **kwargs)\n",
      "/Applications/anaconda3/lib/python3.8/site-packages/sklearn/utils/validation.py:63: DataConversionWarning: A column-vector y was passed when a 1d array was expected. Please change the shape of y to (n_samples, ), for example using ravel().\n",
      "  return f(*args, **kwargs)\n",
      "/Applications/anaconda3/lib/python3.8/site-packages/sklearn/utils/validation.py:63: DataConversionWarning: A column-vector y was passed when a 1d array was expected. Please change the shape of y to (n_samples, ), for example using ravel().\n",
      "  return f(*args, **kwargs)\n",
      "/Applications/anaconda3/lib/python3.8/site-packages/sklearn/utils/validation.py:63: DataConversionWarning: A column-vector y was passed when a 1d array was expected. Please change the shape of y to (n_samples, ), for example using ravel().\n",
      "  return f(*args, **kwargs)\n",
      "/Applications/anaconda3/lib/python3.8/site-packages/sklearn/utils/validation.py:63: DataConversionWarning: A column-vector y was passed when a 1d array was expected. Please change the shape of y to (n_samples, ), for example using ravel().\n",
      "  return f(*args, **kwargs)\n",
      "/Applications/anaconda3/lib/python3.8/site-packages/sklearn/utils/validation.py:63: DataConversionWarning: A column-vector y was passed when a 1d array was expected. Please change the shape of y to (n_samples, ), for example using ravel().\n",
      "  return f(*args, **kwargs)\n",
      "/Applications/anaconda3/lib/python3.8/site-packages/sklearn/utils/validation.py:63: DataConversionWarning: A column-vector y was passed when a 1d array was expected. Please change the shape of y to (n_samples, ), for example using ravel().\n",
      "  return f(*args, **kwargs)\n",
      "/Applications/anaconda3/lib/python3.8/site-packages/sklearn/utils/validation.py:63: DataConversionWarning: A column-vector y was passed when a 1d array was expected. Please change the shape of y to (n_samples, ), for example using ravel().\n",
      "  return f(*args, **kwargs)\n"
     ]
    },
    {
     "name": "stdout",
     "output_type": "stream",
     "text": [
      "\n",
      "params: {'learning_rate': 0.01, 'max_depth': 3, 'n_estimators': 10, 'subsample': 0.5}\n",
      "mean of accuracies: 0.582013328447906\n",
      "std dev of accuracies: 0.0006289434341565789\n",
      "\n",
      "params: {'learning_rate': 0.01, 'max_depth': 3, 'n_estimators': 10, 'subsample': 1}\n",
      "mean of accuracies: 0.582013328447906\n",
      "std dev of accuracies: 0.0006289434341565789\n",
      "\n",
      "params: {'learning_rate': 0.01, 'max_depth': 3, 'n_estimators': 100, 'subsample': 0.5}\n",
      "mean of accuracies: 0.8323985256030841\n",
      "std dev of accuracies: 0.003732966895807121\n",
      "\n",
      "params: {'learning_rate': 0.01, 'max_depth': 3, 'n_estimators': 100, 'subsample': 1}\n",
      "mean of accuracies: 0.8324000914451783\n",
      "std dev of accuracies: 0.005534067549826351\n",
      "\n",
      "params: {'learning_rate': 0.01, 'max_depth': 3, 'n_estimators': 250, 'subsample': 0.5}\n",
      "mean of accuracies: 0.8323969597609898\n",
      "std dev of accuracies: 0.0013891393533147834\n",
      "\n",
      "params: {'learning_rate': 0.01, 'max_depth': 3, 'n_estimators': 250, 'subsample': 1}\n",
      "mean of accuracies: 0.8329097730468469\n",
      "std dev of accuracies: 0.0031915743595628695\n",
      "\n",
      "params: {'learning_rate': 0.01, 'max_depth': 5, 'n_estimators': 10, 'subsample': 0.5}\n",
      "mean of accuracies: 0.582013328447906\n",
      "std dev of accuracies: 0.0006289434341565789\n",
      "\n",
      "params: {'learning_rate': 0.01, 'max_depth': 5, 'n_estimators': 10, 'subsample': 1}\n",
      "mean of accuracies: 0.582013328447906\n",
      "std dev of accuracies: 0.0006289434341565789\n",
      "\n",
      "params: {'learning_rate': 0.01, 'max_depth': 5, 'n_estimators': 100, 'subsample': 0.5}\n",
      "mean of accuracies: 0.8344450812202294\n",
      "std dev of accuracies: 0.006854837228124731\n",
      "\n",
      "params: {'learning_rate': 0.01, 'max_depth': 5, 'n_estimators': 100, 'subsample': 1}\n",
      "mean of accuracies: 0.8247376431571135\n",
      "std dev of accuracies: 0.008392491260620792\n",
      "\n",
      "params: {'learning_rate': 0.01, 'max_depth': 5, 'n_estimators': 250, 'subsample': 0.5}\n",
      "mean of accuracies: 0.8303574504332684\n",
      "std dev of accuracies: 0.0067681057982080075\n",
      "\n",
      "params: {'learning_rate': 0.01, 'max_depth': 5, 'n_estimators': 250, 'subsample': 1}\n",
      "mean of accuracies: 0.8283171581845\n",
      "std dev of accuracies: 0.011810138044086562\n",
      "\n",
      "params: {'learning_rate': 0.1, 'max_depth': 3, 'n_estimators': 10, 'subsample': 0.5}\n",
      "mean of accuracies: 0.8364892880742335\n",
      "std dev of accuracies: 0.006772515686938801\n",
      "\n",
      "params: {'learning_rate': 0.1, 'max_depth': 3, 'n_estimators': 10, 'subsample': 1}\n",
      "mean of accuracies: 0.8323985256030841\n",
      "std dev of accuracies: 0.0030381426509662\n",
      "\n",
      "params: {'learning_rate': 0.1, 'max_depth': 3, 'n_estimators': 100, 'subsample': 0.5}\n",
      "mean of accuracies: 0.8186042396740544\n",
      "std dev of accuracies: 0.0062951100656864645\n",
      "\n",
      "params: {'learning_rate': 0.1, 'max_depth': 3, 'n_estimators': 100, 'subsample': 1}\n",
      "mean of accuracies: 0.8267810670900704\n",
      "std dev of accuracies: 0.008651257235849358\n",
      "\n",
      "params: {'learning_rate': 0.1, 'max_depth': 3, 'n_estimators': 250, 'subsample': 0.5}\n",
      "mean of accuracies: 0.8186003250688189\n",
      "std dev of accuracies: 0.0013848556590282154\n",
      "\n",
      "params: {'learning_rate': 0.1, 'max_depth': 3, 'n_estimators': 250, 'subsample': 1}\n",
      "mean of accuracies: 0.8145126942818578\n",
      "std dev of accuracies: 0.0032715374990350335\n",
      "\n",
      "params: {'learning_rate': 0.1, 'max_depth': 5, 'n_estimators': 10, 'subsample': 0.5}\n",
      "mean of accuracies: 0.8318935415276982\n",
      "std dev of accuracies: 0.011232025738486551\n",
      "\n",
      "params: {'learning_rate': 0.1, 'max_depth': 5, 'n_estimators': 10, 'subsample': 1}\n",
      "mean of accuracies: 0.8272954462180215\n",
      "std dev of accuracies: 0.013145715850466371\n",
      "\n",
      "params: {'learning_rate': 0.1, 'max_depth': 5, 'n_estimators': 100, 'subsample': 0.5}\n",
      "mean of accuracies: 0.8262666879621191\n",
      "std dev of accuracies: 0.0030341080679289435\n",
      "\n",
      "params: {'learning_rate': 0.1, 'max_depth': 5, 'n_estimators': 100, 'subsample': 1}\n",
      "mean of accuracies: 0.8134995944468976\n",
      "std dev of accuracies: 0.013360089355192476\n",
      "\n",
      "params: {'learning_rate': 0.1, 'max_depth': 5, 'n_estimators': 250, 'subsample': 0.5}\n",
      "mean of accuracies: 0.8027587006015966\n",
      "std dev of accuracies: 0.0015218454677642826\n",
      "\n",
      "params: {'learning_rate': 0.1, 'max_depth': 5, 'n_estimators': 250, 'subsample': 1}\n",
      "mean of accuracies: 0.805319635346693\n",
      "std dev of accuracies: 0.00863789641849938\n",
      "\n",
      "params: {'learning_rate': 0.25, 'max_depth': 3, 'n_estimators': 10, 'subsample': 0.5}\n",
      "mean of accuracies: 0.8293333897036487\n",
      "std dev of accuracies: 0.004283131003156154\n",
      "\n",
      "params: {'learning_rate': 0.25, 'max_depth': 3, 'n_estimators': 10, 'subsample': 1}\n",
      "mean of accuracies: 0.8334210204906096\n",
      "std dev of accuracies: 0.005128515579127105\n",
      "\n",
      "params: {'learning_rate': 0.25, 'max_depth': 3, 'n_estimators': 100, 'subsample': 0.5}\n",
      "mean of accuracies: 0.8037819784101692\n",
      "std dev of accuracies: 0.0032692966185037566\n",
      "\n",
      "params: {'learning_rate': 0.25, 'max_depth': 3, 'n_estimators': 100, 'subsample': 1}\n",
      "mean of accuracies: 0.8155351891693834\n",
      "std dev of accuracies: 0.0025150833847280805\n",
      "\n",
      "params: {'learning_rate': 0.25, 'max_depth': 3, 'n_estimators': 250, 'subsample': 0.5}\n",
      "mean of accuracies: 0.7976501407692043\n",
      "std dev of accuracies: 0.011933668712259267\n",
      "\n",
      "params: {'learning_rate': 0.25, 'max_depth': 3, 'n_estimators': 250, 'subsample': 1}\n",
      "mean of accuracies: 0.8027587006015965\n",
      "std dev of accuracies: 0.005083273454734946\n",
      "\n",
      "params: {'learning_rate': 0.25, 'max_depth': 5, 'n_estimators': 10, 'subsample': 0.5}\n",
      "mean of accuracies: 0.817063451053342\n",
      "std dev of accuracies: 0.008410617087387712\n",
      "\n",
      "params: {'learning_rate': 0.25, 'max_depth': 5, 'n_estimators': 10, 'subsample': 1}\n",
      "mean of accuracies: 0.8252481076798291\n",
      "std dev of accuracies: 0.008088156394807805\n",
      "\n",
      "params: {'learning_rate': 0.25, 'max_depth': 5, 'n_estimators': 100, 'subsample': 0.5}\n",
      "mean of accuracies: 0.7910109702897121\n",
      "std dev of accuracies: 0.01113887233362206\n",
      "\n",
      "params: {'learning_rate': 0.25, 'max_depth': 5, 'n_estimators': 100, 'subsample': 1}\n",
      "mean of accuracies: 0.8022474531578339\n",
      "std dev of accuracies: 0.002243261311037841\n",
      "\n",
      "params: {'learning_rate': 0.25, 'max_depth': 5, 'n_estimators': 250, 'subsample': 0.5}\n",
      "mean of accuracies: 0.8012241753492612\n",
      "std dev of accuracies: 0.005855679274822033\n",
      "\n",
      "params: {'learning_rate': 0.25, 'max_depth': 5, 'n_estimators': 250, 'subsample': 1}\n",
      "mean of accuracies: 0.8048013416135064\n",
      "std dev of accuracies: 0.0027414127757958134\n",
      "\n",
      "***best parameters: {'learning_rate': 0.1, 'max_depth': 3, 'n_estimators': 10, 'subsample': 0.5}\n",
      "best score: 0.8364892880742335\n",
      "\n",
      "computation took 0.753536581993103 minutes\n"
     ]
    },
    {
     "name": "stderr",
     "output_type": "stream",
     "text": [
      "/Applications/anaconda3/lib/python3.8/site-packages/sklearn/utils/validation.py:63: DataConversionWarning: A column-vector y was passed when a 1d array was expected. Please change the shape of y to (n_samples, ), for example using ravel().\n",
      "  return f(*args, **kwargs)\n"
     ]
    }
   ],
   "source": [
    "start = time.time()\n",
    "\n",
    "# set-up grid of parameters to search\n",
    "param_grid = {'n_estimators': [10, 100, 250], 'learning_rate': [.01, .1, .25],\n",
    "              'subsample': [.5, 1],\n",
    "              'max_depth': [3, 5]} \n",
    "# n_estimators controls how many models to aggregate (i.e., how many weak learners)\n",
    "# learning rate shrinks contribution from individual models (how vigorously errors are corrected);\n",
    "#  tradeoff w/ n_estimators\n",
    "# subsample controls what % of the observations each model will use\n",
    "# max_depth controls tree depth/complexity of individual models\n",
    "\n",
    "# instantiate grid search object\n",
    "grid = GridSearchCV(GradientBoostingClassifier(), param_grid, cv = 3)\n",
    "\n",
    "# fitting the model for grid search \n",
    "grid.fit(scaled_X, y)\n",
    "\n",
    "# print parameters, mean, and standard deviation of scores by iteration\n",
    "for z in range(0, len(grid.cv_results_['params'])):\n",
    "    print('\\nparams:', grid.cv_results_['params'][z])\n",
    "    print('mean of accuracies:', grid.cv_results_['mean_test_score'][z])\n",
    "    print('std dev of accuracies:', grid.cv_results_['std_test_score'][z])\n",
    "\n",
    "# print best parameter after tuning \n",
    "print('\\n***best parameters:', grid.best_params_)\n",
    "print('best score:', grid.best_score_)\n",
    "\n",
    "# store the best estimator\n",
    "best_sgb = grid.best_estimator_\n",
    "\n",
    "mins = (time.time() - start) / 60\n",
    "print('\\ncomputation took', mins, 'minutes')"
   ]
  },
  {
   "cell_type": "code",
   "execution_count": 194,
   "metadata": {},
   "outputs": [
    {
     "data": {
      "image/png": "[encoded data removed]",
      "text/plain": [
       "<Figure size 432x288 with 1 Axes>"
      ]
     },
     "metadata": {
      "needs_background": "light"
     },
     "output_type": "display_data"
    },
    {
     "data": {
      "image/png": "[encoded data removed]",
      "text/plain": [
       "<Figure size 432x288 with 1 Axes>"
      ]
     },
     "metadata": {
      "needs_background": "light"
     },
     "output_type": "display_data"
    },
    {
     "data": {
      "image/png": "[encoded data removed]",
      "text/plain": [
       "<Figure size 432x288 with 1 Axes>"
      ]
     },
     "metadata": {
      "needs_background": "light"
     },
     "output_type": "display_data"
    },
    {
     "data": {
      "image/png": "[encoded data removed]",
      "text/plain": [
       "<Figure size 432x288 with 1 Axes>"
      ]
     },
     "metadata": {
      "needs_background": "light"
     },
     "output_type": "display_data"
    }
   ],
   "source": [
    "# compile parameter and results into a dataframe\n",
    "tmp = pd.DataFrame(grid.cv_results_['params'])\n",
    "tmp2 = pd.DataFrame(grid.cv_results_['mean_test_score'], columns=['mean_test_score'])\n",
    "tmp = pd.concat([tmp, tmp2], axis=1)\n",
    "tmp.head()\n",
    "\n",
    "#send to graphs\n",
    "for figvals, dfs in tmp.groupby(['subsample', 'max_depth']):\n",
    "    fig, ax = plt.subplots(figsize=(6,4))\n",
    "    for label, dfs2 in dfs.groupby('learning_rate'):\n",
    "        plt.plot(dfs2.n_estimators, dfs2.mean_test_score, marker='x', label=label)\n",
    "    plt.xlabel('n_estimators')\n",
    "    plt.ylabel('mean_test_accuracy')\n",
    "    plt.legend(title='learning_rate')\n",
    "    figlab = 'subsample =' + str(figvals[0]) + ', max_depth =' + str(figvals[1])\n",
    "    plt.title(figlab)"
   ]
  },
  {
   "cell_type": "markdown",
   "metadata": {},
   "source": [
    "When I compare the 3 models:\n",
    "   * Using Decision Trees: Accuracy using test data was 0.82\n",
    "   * Random Forests: Mean Accuracy was 0.835\n",
    "   * Gradient Boosting Model: Mean Acuracy was 0.836\n",
    "        \n",
    "The accuracy using Gradient boosting model is slightly higher than the other two. "
   ]
  },
  {
   "cell_type": "code",
   "execution_count": null,
   "metadata": {},
   "outputs": [],
   "source": []
  }
 ],
 "metadata": {
  "kernelspec": {
   "display_name": "Python 3",
   "language": "python",
   "name": "python3"
  },
  "language_info": {
   "codemirror_mode": {
    "name": "ipython",
    "version": 3
   },
   "file_extension": ".py",
   "mimetype": "text/x-python",
   "name": "python",
   "nbconvert_exporter": "python",
   "pygments_lexer": "ipython3",
   "version": "3.8.8"
  }
 },
 "nbformat": 4,
 "nbformat_minor": 2
}
