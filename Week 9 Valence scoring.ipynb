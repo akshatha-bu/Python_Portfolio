{
 "cells": [
  {
   "cell_type": "markdown",
   "metadata": {},
   "source": [
    "# Valence Scoring Assignment\n"
   ]
  },
  {
   "cell_type": "markdown",
   "metadata": {},
   "source": [
    "## Valence scoring:\n",
    "* Modify the valence function:\n",
    "    * Remove punctuation (“hate.” should match our dictionary)\n",
    "    * Adjust for whether the previous word is one of these negators: not, never, no, none, nobody, nothing, don’t, doesn’t, won’t, shan’t, didn’t, shouldn’t, wouldn’t, couldn’t, can’t, cannot, neither, nor"
   ]
  },
  {
   "cell_type": "code",
   "execution_count": 1,
   "metadata": {},
   "outputs": [
    {
     "name": "stdout",
     "output_type": "stream",
     "text": [
      "2006 positive words loaded: ['a+', 'abound', 'abounds', 'abundance', 'abundant'] \n",
      "\n",
      "4783 negative words loaded: ['2-faced', '2-faces', 'abnormal', 'abolish', 'abominable']\n"
     ]
    }
   ],
   "source": [
    "# load valence lists\n",
    "\n",
    "poswords = []\n",
    "with open(\"poswords.txt\") as f:\n",
    "    for word in f:\n",
    "        word = word.strip()\n",
    "        poswords.append(word)\n",
    "print(len(poswords),'positive words loaded:', poswords[0:5], '\\n')\n",
    "\n",
    "negwords = []\n",
    "with open(\"negwords.txt\") as f:\n",
    "    for word in f:\n",
    "        word = word.strip()\n",
    "        negwords.append(word)\n",
    "print(len(negwords), 'negative words loaded:', negwords[0:5])"
   ]
  },
  {
   "cell_type": "code",
   "execution_count": 2,
   "metadata": {},
   "outputs": [
    {
     "name": "stdout",
     "output_type": "stream",
     "text": [
      "17 negating words loaded: ['not', 'never', 'no', 'none', 'nobody'] \n",
      "\n"
     ]
    }
   ],
   "source": [
    "# load negate words\n",
    "\n",
    "negate = []\n",
    "with open(\"negate.txt\") as f:\n",
    "    for word in f:\n",
    "        word = word.strip()\n",
    "        negate.append(word)\n",
    "print(len(negate),'negating words loaded:', negate[0:5], '\\n')"
   ]
  },
  {
   "cell_type": "code",
   "execution_count": 5,
   "metadata": {},
   "outputs": [
    {
     "name": "stdout",
     "output_type": "stream",
     "text": [
      "string With Punctuation\n"
     ]
    }
   ],
   "source": [
    "# testing the peice of code to remove punctuation \n",
    "\n",
    "import re \n",
    "s = \"string. With. Punctuation?\" \n",
    "s = re.sub(r'[^\\w\\s]','',s)\n",
    "print(s)"
   ]
  },
  {
   "cell_type": "markdown",
   "metadata": {},
   "source": [
    "### OLD Valence Function"
   ]
  },
  {
   "cell_type": "code",
   "execution_count": 63,
   "metadata": {},
   "outputs": [],
   "source": [
    "#create valence function\n",
    "\n",
    "def valence_old(text):\n",
    "    text = str(text)\n",
    "    #put text into lower-case\n",
    "    text = text.lower().strip()\n",
    "    #split text into words\n",
    "    words = text.split()\n",
    "    #count how many words from the text are in the positive and negative lists\n",
    "    posct, negct = 0, 0\n",
    "    for i, word in enumerate(words):\n",
    "        if word in poswords:\n",
    "            posct += 1\n",
    "            #print('pos:', word)\n",
    "        elif word in negwords:\n",
    "            negct += 1\n",
    "            #print('neg:', word)\n",
    "    #print(posct, negct)\n",
    "    #create a summary measure of the text's valence\n",
    "    result = (posct - negct) / len(words)\n",
    "    return result"
   ]
  },
  {
   "cell_type": "markdown",
   "metadata": {},
   "source": [
    "### NEW Valence Function"
   ]
  },
  {
   "cell_type": "code",
   "execution_count": 72,
   "metadata": {},
   "outputs": [],
   "source": [
    "#Create valence function\n",
    "import re \n",
    "def valence(text):\n",
    "    text = str(text)\n",
    "    #remove punctuation from a string\n",
    "    text = re.sub(r'[^\\w\\s]','',text)\n",
    "    #put text into lower-case\n",
    "    text = text.lower().strip()\n",
    "    #split text into words\n",
    "    words = text.split()\n",
    "    #count how many words from the text are in the positive and negative lists\n",
    "    posct, negct = 0, 0\n",
    "    for i, word in enumerate(words):\n",
    "        if word in poswords:\n",
    "            if (i - 1 >= 0) and words[i-1] not in negate and words[i-2] not in negate:\n",
    "                posct += 1\n",
    "                #print('pos:', word)\n",
    "            else:\n",
    "                negct += 1\n",
    "                '''if (i - 1 >= 0) and words[i-1] in negate:\n",
    "                    print('negate:', words[i-1])\n",
    "                else:\n",
    "                    print('negate:', words[i-2])\n",
    "                print('pos:', word)'''\n",
    "        elif word in negwords:\n",
    "            if (i - 1 >= 0) and words[i-1] not in negate and words[i-2] not in negate:\n",
    "                negct += 1\n",
    "                #print('neg:', word)\n",
    "            else:\n",
    "                posct += 1\n",
    "                '''if (i - 1 >= 0) and words[i-1] in negate:\n",
    "                    print('negate:', words[i-1])\n",
    "                else:\n",
    "                    print('negate:', words[i-2])\n",
    "                print('neg:', word)'''\n",
    "    #print(posct, negct)\n",
    "    #create a summary measure of the text's valence\n",
    "    result = (posct - negct) / len(words)\n",
    "    return result"
   ]
  },
  {
   "cell_type": "code",
   "execution_count": 58,
   "metadata": {},
   "outputs": [
    {
     "name": "stdout",
     "output_type": "stream",
     "text": [
      "neg: bad\n",
      "0 1\n",
      "I am bad \n",
      " old Valence = -0.3333333333333333\n",
      "neg: bad\n",
      "I am bad \n",
      " new Valence = -0.3333333333333333\n",
      "\n",
      "\n",
      "0 0\n",
      "I am good. \n",
      " old Valence = 0.0\n",
      "pos: good\n",
      "I am good. \n",
      " new Valence = 0.3333333333333333\n",
      "\n",
      "\n"
     ]
    }
   ],
   "source": [
    "# test the Valence function\n",
    "s = 'I am bad'\n",
    "print(s, \"\\n old Valence =\",valence_old(s))\n",
    "print(s, \"\\n new Valence =\",valence(s))\n",
    "print(\"\\n\")\n",
    "\n",
    "s = 'I am good.'\n",
    "print(s, \"\\n old Valence =\",valence_old(s))\n",
    "print(s, \"\\n new Valence =\",valence(s))\n",
    "print(\"\\n\")\n",
    "\n"
   ]
  },
  {
   "cell_type": "code",
   "execution_count": 56,
   "metadata": {},
   "outputs": [
    {
     "name": "stdout",
     "output_type": "stream",
     "text": [
      "neg: bad\n",
      "0 1\n",
      "I am not bad \n",
      " old Valence = -0.25\n",
      "negate: not\n",
      "neg: bad\n",
      "I am not bad \n",
      " new Valence = 0.25\n",
      "\n",
      "\n",
      "pos: good\n",
      "1 0\n",
      "I am not good \n",
      " old Valence = 0.25\n",
      "negate: not\n",
      "pos: good\n",
      "I am not good \n",
      " new Valence = -0.25\n",
      "\n",
      "\n"
     ]
    }
   ],
   "source": [
    "# test the Valence function\n",
    "s = 'I am not bad'\n",
    "print(s, \"\\n old Valence =\",valence_old(s))\n",
    "print(s, \"\\n new Valence =\",valence(s))\n",
    "print(\"\\n\")\n",
    "\n",
    "s = 'I am not good'\n",
    "print(s, \"\\n old Valence =\",valence_old(s))\n",
    "print(s, \"\\n new Valence =\",valence(s))\n",
    "print(\"\\n\")\n",
    "\n"
   ]
  },
  {
   "cell_type": "code",
   "execution_count": 57,
   "metadata": {},
   "outputs": [
    {
     "name": "stdout",
     "output_type": "stream",
     "text": [
      "neg: terribly\n",
      "neg: bad\n",
      "0 2\n",
      "I am terribly bad \n",
      " old Valence = -0.5\n",
      "neg: terribly\n",
      "neg: bad\n",
      "I am terribly bad \n",
      " new Valence = -0.5\n",
      "\n",
      "\n",
      "neg: terribly\n",
      "pos: good\n",
      "1 1\n",
      "I am terribly good \n",
      " old Valence = 0.0\n",
      "neg: terribly\n",
      "pos: good\n",
      "I am terribly good \n",
      " new Valence = 0.0\n",
      "\n",
      "\n",
      "pos: good\n",
      "1 0\n",
      "This is not a good idea. \n",
      " old Valence = 0.16666666666666666\n",
      "negate: not\n",
      "pos: good\n",
      "This is not a good idea. \n",
      " new Valence = -0.16666666666666666\n",
      "\n",
      "\n"
     ]
    }
   ],
   "source": [
    "# test the Valence function\n",
    "s = 'I am terribly bad'\n",
    "print(s, \"\\n old Valence =\",valence_old(s))\n",
    "print(s, \"\\n new Valence =\",valence(s))\n",
    "print(\"\\n\")\n",
    "\n",
    "s = 'I am terribly good'\n",
    "print(s, \"\\n old Valence =\",valence_old(s))\n",
    "print(s, \"\\n new Valence =\",valence(s))\n",
    "print(\"\\n\")\n",
    "\n",
    "s = 'This is not a good idea.'\n",
    "print(s, \"\\n old Valence =\",valence_old(s))\n",
    "print(s, \"\\n new Valence =\",valence(s))\n",
    "print(\"\\n\")"
   ]
  },
  {
   "cell_type": "markdown",
   "metadata": {},
   "source": [
    "##### Apply the function to your corpus\n",
    "    * Can use the beer reviews data again\n",
    "    * Or any textual data you have collected for your final project"
   ]
  },
  {
   "cell_type": "code",
   "execution_count": 82,
   "metadata": {},
   "outputs": [
    {
     "name": "stdout",
     "output_type": "stream",
     "text": [
      "(250, 3)\n"
     ]
    },
    {
     "data": {
      "text/html": [
       "<div>\n",
       "<style scoped>\n",
       "    .dataframe tbody tr th:only-of-type {\n",
       "        vertical-align: middle;\n",
       "    }\n",
       "\n",
       "    .dataframe tbody tr th {\n",
       "        vertical-align: top;\n",
       "    }\n",
       "\n",
       "    .dataframe thead th {\n",
       "        text-align: right;\n",
       "    }\n",
       "</style>\n",
       "<table border=\"1\" class=\"dataframe\">\n",
       "  <thead>\n",
       "    <tr style=\"text-align: right;\">\n",
       "      <th></th>\n",
       "      <th>style</th>\n",
       "      <th>overall</th>\n",
       "      <th>review</th>\n",
       "    </tr>\n",
       "  </thead>\n",
       "  <tbody>\n",
       "    <tr>\n",
       "      <th>0</th>\n",
       "      <td>Hefeweizen</td>\n",
       "      <td>1.5</td>\n",
       "      <td>A lot of foam. But a lot. In the smell some ba...</td>\n",
       "    </tr>\n",
       "    <tr>\n",
       "      <th>1</th>\n",
       "      <td>English Strong Ale</td>\n",
       "      <td>3.0</td>\n",
       "      <td>Dark red color, light beige foam, average. In ...</td>\n",
       "    </tr>\n",
       "    <tr>\n",
       "      <th>2</th>\n",
       "      <td>Foreign / Export Stout</td>\n",
       "      <td>3.0</td>\n",
       "      <td>Almost totally black. Beige foam, quite compac...</td>\n",
       "    </tr>\n",
       "    <tr>\n",
       "      <th>3</th>\n",
       "      <td>German Pilsener</td>\n",
       "      <td>3.0</td>\n",
       "      <td>Golden yellow color. White, compact foam, quit...</td>\n",
       "    </tr>\n",
       "    <tr>\n",
       "      <th>4</th>\n",
       "      <td>American Double / Imperial IPA</td>\n",
       "      <td>4.0</td>\n",
       "      <td>According to the website, the style for the Ca...</td>\n",
       "    </tr>\n",
       "  </tbody>\n",
       "</table>\n",
       "</div>"
      ],
      "text/plain": [
       "                            style  overall  \\\n",
       "0                      Hefeweizen      1.5   \n",
       "1              English Strong Ale      3.0   \n",
       "2          Foreign / Export Stout      3.0   \n",
       "3                 German Pilsener      3.0   \n",
       "4  American Double / Imperial IPA      4.0   \n",
       "\n",
       "                                              review  \n",
       "0  A lot of foam. But a lot. In the smell some ba...  \n",
       "1  Dark red color, light beige foam, average. In ...  \n",
       "2  Almost totally black. Beige foam, quite compac...  \n",
       "3  Golden yellow color. White, compact foam, quit...  \n",
       "4  According to the website, the style for the Ca...  "
      ]
     },
     "execution_count": 82,
     "metadata": {},
     "output_type": "execute_result"
    }
   ],
   "source": [
    "#load in text to analyze\n",
    "import pandas as pd\n",
    "\n",
    "df = pd.read_csv('Reviews/beer_reviews.txt', sep = '\\t')\n",
    "print(df.shape)\n",
    "df.head()"
   ]
  },
  {
   "cell_type": "code",
   "execution_count": 83,
   "metadata": {},
   "outputs": [
    {
     "name": "stdout",
     "output_type": "stream",
     "text": [
      "A lot of foam. But a lot. In the smell some banana, and then lactic and tart. Not a good start. Quite dark orange in color, with a lively carbonation (now visible, under the foam). Again tending to lactic sourness. Same for the taste. With some yeast and banana.\n",
      "\n",
      "Old Valence: 0.0\n",
      "\n",
      "New Valence: -0.04081632653061224\n"
     ]
    }
   ],
   "source": [
    "s = df.loc[0, 'review']\n",
    "print(s)\n",
    "print(\"\\nOld Valence:\",valence_old(s))\n",
    "print(\"\\nNew Valence:\",valence(s))"
   ]
  },
  {
   "cell_type": "markdown",
   "metadata": {},
   "source": [
    "**<font color=blue>From the previous valence function, the score was 0.</font>**\n",
    "**<font color=blue>The valence function makes more sense as it is in sync with the rating of 1.5.**</font>"
   ]
  },
  {
   "cell_type": "markdown",
   "metadata": {},
   "source": [
    "### Applying the OLD valence function to all reviews"
   ]
  },
  {
   "cell_type": "code",
   "execution_count": 85,
   "metadata": {},
   "outputs": [
    {
     "name": "stdout",
     "output_type": "stream",
     "text": [
      "\n",
      "computation took 0.03242153326670329 minutes\n"
     ]
    },
    {
     "data": {
      "text/html": [
       "<div>\n",
       "<style scoped>\n",
       "    .dataframe tbody tr th:only-of-type {\n",
       "        vertical-align: middle;\n",
       "    }\n",
       "\n",
       "    .dataframe tbody tr th {\n",
       "        vertical-align: top;\n",
       "    }\n",
       "\n",
       "    .dataframe thead th {\n",
       "        text-align: right;\n",
       "    }\n",
       "</style>\n",
       "<table border=\"1\" class=\"dataframe\">\n",
       "  <thead>\n",
       "    <tr style=\"text-align: right;\">\n",
       "      <th></th>\n",
       "      <th>style</th>\n",
       "      <th>overall</th>\n",
       "      <th>review</th>\n",
       "      <th>score</th>\n",
       "    </tr>\n",
       "  </thead>\n",
       "  <tbody>\n",
       "    <tr>\n",
       "      <th>0</th>\n",
       "      <td>Hefeweizen</td>\n",
       "      <td>1.5</td>\n",
       "      <td>A lot of foam. But a lot. In the smell some ba...</td>\n",
       "      <td>0.000000</td>\n",
       "    </tr>\n",
       "    <tr>\n",
       "      <th>1</th>\n",
       "      <td>English Strong Ale</td>\n",
       "      <td>3.0</td>\n",
       "      <td>Dark red color, light beige foam, average. In ...</td>\n",
       "      <td>-0.049180</td>\n",
       "    </tr>\n",
       "    <tr>\n",
       "      <th>2</th>\n",
       "      <td>Foreign / Export Stout</td>\n",
       "      <td>3.0</td>\n",
       "      <td>Almost totally black. Beige foam, quite compac...</td>\n",
       "      <td>0.000000</td>\n",
       "    </tr>\n",
       "    <tr>\n",
       "      <th>3</th>\n",
       "      <td>German Pilsener</td>\n",
       "      <td>3.0</td>\n",
       "      <td>Golden yellow color. White, compact foam, quit...</td>\n",
       "      <td>0.121622</td>\n",
       "    </tr>\n",
       "    <tr>\n",
       "      <th>4</th>\n",
       "      <td>American Double / Imperial IPA</td>\n",
       "      <td>4.0</td>\n",
       "      <td>According to the website, the style for the Ca...</td>\n",
       "      <td>0.014925</td>\n",
       "    </tr>\n",
       "  </tbody>\n",
       "</table>\n",
       "</div>"
      ],
      "text/plain": [
       "                            style  overall  \\\n",
       "0                      Hefeweizen      1.5   \n",
       "1              English Strong Ale      3.0   \n",
       "2          Foreign / Export Stout      3.0   \n",
       "3                 German Pilsener      3.0   \n",
       "4  American Double / Imperial IPA      4.0   \n",
       "\n",
       "                                              review     score  \n",
       "0  A lot of foam. But a lot. In the smell some ba...  0.000000  \n",
       "1  Dark red color, light beige foam, average. In ... -0.049180  \n",
       "2  Almost totally black. Beige foam, quite compac...  0.000000  \n",
       "3  Golden yellow color. White, compact foam, quit...  0.121622  \n",
       "4  According to the website, the style for the Ca...  0.014925  "
      ]
     },
     "execution_count": 85,
     "metadata": {},
     "output_type": "execute_result"
    }
   ],
   "source": [
    "# apply function to all reviews\n",
    "import time\n",
    "start = time.time()\n",
    "\n",
    "df['score'] = df['review'].apply(valence_old)\n",
    "\n",
    "mins = (time.time() - start) / 60\n",
    "print('\\ncomputation took', mins, 'minutes')\n",
    "\n",
    "df.head()"
   ]
  },
  {
   "cell_type": "markdown",
   "metadata": {},
   "source": [
    "### Applying the NEW valence function to all reviews"
   ]
  },
  {
   "cell_type": "code",
   "execution_count": 86,
   "metadata": {},
   "outputs": [
    {
     "name": "stdout",
     "output_type": "stream",
     "text": [
      "\n",
      "computation took 0.03189533551534017 minutes\n"
     ]
    },
    {
     "data": {
      "text/html": [
       "<div>\n",
       "<style scoped>\n",
       "    .dataframe tbody tr th:only-of-type {\n",
       "        vertical-align: middle;\n",
       "    }\n",
       "\n",
       "    .dataframe tbody tr th {\n",
       "        vertical-align: top;\n",
       "    }\n",
       "\n",
       "    .dataframe thead th {\n",
       "        text-align: right;\n",
       "    }\n",
       "</style>\n",
       "<table border=\"1\" class=\"dataframe\">\n",
       "  <thead>\n",
       "    <tr style=\"text-align: right;\">\n",
       "      <th></th>\n",
       "      <th>style</th>\n",
       "      <th>overall</th>\n",
       "      <th>review</th>\n",
       "      <th>score</th>\n",
       "    </tr>\n",
       "  </thead>\n",
       "  <tbody>\n",
       "    <tr>\n",
       "      <th>0</th>\n",
       "      <td>Hefeweizen</td>\n",
       "      <td>1.5</td>\n",
       "      <td>A lot of foam. But a lot. In the smell some ba...</td>\n",
       "      <td>-0.040816</td>\n",
       "    </tr>\n",
       "    <tr>\n",
       "      <th>1</th>\n",
       "      <td>English Strong Ale</td>\n",
       "      <td>3.0</td>\n",
       "      <td>Dark red color, light beige foam, average. In ...</td>\n",
       "      <td>0.000000</td>\n",
       "    </tr>\n",
       "    <tr>\n",
       "      <th>2</th>\n",
       "      <td>Foreign / Export Stout</td>\n",
       "      <td>3.0</td>\n",
       "      <td>Almost totally black. Beige foam, quite compac...</td>\n",
       "      <td>0.014493</td>\n",
       "    </tr>\n",
       "    <tr>\n",
       "      <th>3</th>\n",
       "      <td>German Pilsener</td>\n",
       "      <td>3.0</td>\n",
       "      <td>Golden yellow color. White, compact foam, quit...</td>\n",
       "      <td>0.135135</td>\n",
       "    </tr>\n",
       "    <tr>\n",
       "      <th>4</th>\n",
       "      <td>American Double / Imperial IPA</td>\n",
       "      <td>4.0</td>\n",
       "      <td>According to the website, the style for the Ca...</td>\n",
       "      <td>0.024876</td>\n",
       "    </tr>\n",
       "  </tbody>\n",
       "</table>\n",
       "</div>"
      ],
      "text/plain": [
       "                            style  overall  \\\n",
       "0                      Hefeweizen      1.5   \n",
       "1              English Strong Ale      3.0   \n",
       "2          Foreign / Export Stout      3.0   \n",
       "3                 German Pilsener      3.0   \n",
       "4  American Double / Imperial IPA      4.0   \n",
       "\n",
       "                                              review     score  \n",
       "0  A lot of foam. But a lot. In the smell some ba... -0.040816  \n",
       "1  Dark red color, light beige foam, average. In ...  0.000000  \n",
       "2  Almost totally black. Beige foam, quite compac...  0.014493  \n",
       "3  Golden yellow color. White, compact foam, quit...  0.135135  \n",
       "4  According to the website, the style for the Ca...  0.024876  "
      ]
     },
     "execution_count": 86,
     "metadata": {},
     "output_type": "execute_result"
    }
   ],
   "source": [
    "# apply function to all reviews\n",
    "import time\n",
    "start = time.time()\n",
    "\n",
    "df['score'] = df['review'].apply(valence)\n",
    "\n",
    "mins = (time.time() - start) / 60\n",
    "print('\\ncomputation took', mins, 'minutes')\n",
    "\n",
    "df.head()"
   ]
  },
  {
   "cell_type": "code",
   "execution_count": 45,
   "metadata": {},
   "outputs": [
    {
     "name": "stdout",
     "output_type": "stream",
     "text": [
      "count    250.000000\n",
      "mean       0.046684\n",
      "std        0.040502\n",
      "min       -0.056604\n",
      "25%        0.019201\n",
      "50%        0.044152\n",
      "75%        0.070073\n",
      "max        0.189189\n",
      "Name: score, dtype: float64\n",
      "\n",
      "correlation w/ rating: 0.275\n"
     ]
    },
    {
     "data": {
      "image/png": "[encoded data removed]",
      "text/plain": [
       "<Figure size 432x288 with 1 Axes>"
      ]
     },
     "metadata": {
      "needs_background": "light"
     },
     "output_type": "display_data"
    }
   ],
   "source": [
    "# examine the results\n",
    "from matplotlib import pyplot as plt\n",
    "\n",
    "print(df.score.describe())\n",
    "print('\\ncorrelation w/ rating:', df.score.corr(df.overall).round(3))\n",
    "plt.hist(df.score)\n",
    "plt.title('Histogram of valence scores')\n",
    "plt.show()"
   ]
  },
  {
   "cell_type": "markdown",
   "metadata": {},
   "source": [
    "### Analyze the results\n",
    "*  __Is there lift in the association b/w valence and overall rating (or any other metrics you have)__\n",
    "    - Yes, there is a lift in the association b/w valence and overall rating. The correlation previously was <font color=blue>__0.211__</font> and now it is <font color=blue>__0.275.__</font>\n",
    "* __Examine the top/bottom records. Do the valence scores make sense?__\n",
    "    - To some extent, the valence score makes sense, but it needs to be improved further.\n",
    "    - For example:\n",
    "    - When someone uses an oxymoron term like <font color=blue>\"terribly good\"</font> the valence must have some positive score. Here in the above function, it gives zero canceling positive and negative words. However, the sentiment was positive.\n",
    "* __How else could you improve the function?__\n",
    "   - Certain times, words from other languages are used in a review, like an exclamatory word to describe a feeling. These can be included in our dictionary.\n",
    "   - Also like I mentioned above, when there are oxymorons like below, they need to identified per the sentiment and not cancelled out:\n",
    "       - <font color=blue>Amazingly awful</font>\n",
    "       - <font color=blue>Sweet sorrow</font>\n",
    "       - <font color=blue>Dark light</font>\n",
    "       - <font color=blue>Growing smaller</font>\n",
    "       - <font color=blue>quite incredible</font>\n",
    "\n",
    "* __Bonus: find the most frequent words that are not in the valence dictionaries. Do any of these seem meaningful/important?__\n",
    "    - Again, oxymoron words like 'bittersweet' are missing from the dictionary.   \n",
    "    - One thing to note is that no matter how much we try to translate sentiments into machine learnable format, it is not always meaningful.  For example, sometimes the same word can be used to describe a good and a bad feeling, like some of the slang words, even though they have a negative connotation to them, are used to show a positive feeling. "
   ]
  }
 ],
 "metadata": {
  "kernelspec": {
   "display_name": "Python 3",
   "language": "python",
   "name": "python3"
  },
  "language_info": {
   "codemirror_mode": {
    "name": "ipython",
    "version": 3
   },
   "file_extension": ".py",
   "mimetype": "text/x-python",
   "name": "python",
   "nbconvert_exporter": "python",
   "pygments_lexer": "ipython3",
   "version": "3.8.8"
  }
 },
 "nbformat": 4,
 "nbformat_minor": 1
}
